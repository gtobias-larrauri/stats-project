{
 "cells": [
  {
   "cell_type": "code",
   "execution_count": 1,
   "id": "67495349-585a-4507-a99e-c93144486689",
   "metadata": {},
   "outputs": [],
   "source": [
    "import pandas as pd\n",
    "import math # find nan with logic\n"
   ]
  },
  {
   "cell_type": "markdown",
   "id": "fe258101-7523-42ce-9329-7fb64637305c",
   "metadata": {},
   "source": [
    "# Fixing the formatting of these wonderful people\n",
    "    1. I had to install LibreOffice just to view the files...\n",
    "    2. Unnamed 0 is the place where the exam takes place at. DONE\n",
    "    3. Loop over Unnamed 0 if nan then put the previous DONE\n",
    "    4. Delete the all NaN apart from location, as those are rows that just specify location. DONE\n",
    "    5. Finally we will append, first just few columns then next which are female and finally the total, we will see later if we use those. DONE\n",
    "    6. Check if we can convert data to numeric.\n",
    "    7. LOOP OVER YEARS\n",
    "    "
   ]
  },
  {
   "cell_type": "code",
   "execution_count": 2,
   "id": "7bfb2041-61cf-4cdf-a0ba-148dcad50ed4",
   "metadata": {},
   "outputs": [],
   "source": [
    "seasons = [\n",
    "    \"2023-24\",\n",
    "    \"2022-23\",\n",
    "    \"2021-22\",\n",
    "    \"2020-21\",\n",
    "    \"2019-20\",\n",
    "    \"2018-19\",\n",
    "    \"2017-18\",\n",
    "    \"2016-17\",\n",
    "    \"2015-16\",\n",
    "    \"2014-15\",\n",
    "    \"2013-14\",\n",
    "    \"2012-13\",\n",
    "    \"2011-12\",\n",
    "    \"2010-11\",\n",
    "    \"2009-10\",\n",
    "    \"2008-09\",\n",
    "    \"2007-08\"\n",
    "]\n"
   ]
  },
  {
   "cell_type": "code",
   "execution_count": 3,
   "id": "66aa6246-decf-495b-b32c-9cd7f45af143",
   "metadata": {},
   "outputs": [],
   "source": [
    "#Initialize empty dataframe.\n",
    "df = pd.DataFrame()"
   ]
  },
  {
   "cell_type": "markdown",
   "id": "9a32aba7-3209-4954-b8b8-832be4b685a7",
   "metadata": {},
   "source": [
    "# AGE ONLY A COLUMN NAME IN THE LATEST, ALL OTHERS DO NOT HAVE A COLUMN. FIX"
   ]
  },
  {
   "cell_type": "code",
   "execution_count": 4,
   "id": "3882cad5-ab09-4e03-93a2-9b3b0f5b80b3",
   "metadata": {},
   "outputs": [
    {
     "name": "stderr",
     "output_type": "stream",
     "text": [
      "/var/folders/v_/j4607qws7tq1c9n9g0ynnx340000gp/T/ipykernel_72405/290058877.py:35: SettingWithCopyWarning: \n",
      "A value is trying to be set on a copy of a slice from a DataFrame.\n",
      "Try using .loc[row_indexer,col_indexer] = value instead\n",
      "\n",
      "See the caveats in the documentation: https://pandas.pydata.org/pandas-docs/stable/user_guide/indexing.html#returning-a-view-versus-a-copy\n",
      "  men['gender']=0\n"
     ]
    },
    {
     "name": "stdout",
     "output_type": "stream",
     "text": [
      "2023-24 completed succesfully\n"
     ]
    },
    {
     "ename": "KeyError",
     "evalue": "'Age'",
     "output_type": "error",
     "traceback": [
      "\u001b[0;31m---------------------------------------------------------------------------\u001b[0m",
      "\u001b[0;31mKeyError\u001b[0m                                  Traceback (most recent call last)",
      "File \u001b[0;32m/opt/anaconda3/envs/r_baseline/lib/python3.13/site-packages/pandas/core/indexes/base.py:3805\u001b[0m, in \u001b[0;36mIndex.get_loc\u001b[0;34m(self, key)\u001b[0m\n\u001b[1;32m   3804\u001b[0m \u001b[38;5;28;01mtry\u001b[39;00m:\n\u001b[0;32m-> 3805\u001b[0m     \u001b[38;5;28;01mreturn\u001b[39;00m \u001b[38;5;28;43mself\u001b[39;49m\u001b[38;5;241;43m.\u001b[39;49m\u001b[43m_engine\u001b[49m\u001b[38;5;241;43m.\u001b[39;49m\u001b[43mget_loc\u001b[49m\u001b[43m(\u001b[49m\u001b[43mcasted_key\u001b[49m\u001b[43m)\u001b[49m\n\u001b[1;32m   3806\u001b[0m \u001b[38;5;28;01mexcept\u001b[39;00m \u001b[38;5;167;01mKeyError\u001b[39;00m \u001b[38;5;28;01mas\u001b[39;00m err:\n",
      "File \u001b[0;32mindex.pyx:167\u001b[0m, in \u001b[0;36mpandas._libs.index.IndexEngine.get_loc\u001b[0;34m()\u001b[0m\n",
      "File \u001b[0;32mindex.pyx:196\u001b[0m, in \u001b[0;36mpandas._libs.index.IndexEngine.get_loc\u001b[0;34m()\u001b[0m\n",
      "File \u001b[0;32mpandas/_libs/hashtable_class_helper.pxi:7081\u001b[0m, in \u001b[0;36mpandas._libs.hashtable.PyObjectHashTable.get_item\u001b[0;34m()\u001b[0m\n",
      "File \u001b[0;32mpandas/_libs/hashtable_class_helper.pxi:7089\u001b[0m, in \u001b[0;36mpandas._libs.hashtable.PyObjectHashTable.get_item\u001b[0;34m()\u001b[0m\n",
      "\u001b[0;31mKeyError\u001b[0m: 'Age'",
      "\nThe above exception was the direct cause of the following exception:\n",
      "\u001b[0;31mKeyError\u001b[0m                                  Traceback (most recent call last)",
      "Cell \u001b[0;32mIn[4], line 8\u001b[0m\n\u001b[1;32m      6\u001b[0m df_yearly \u001b[38;5;241m=\u001b[39m df_yearly\u001b[38;5;241m.\u001b[39mrename(columns\u001b[38;5;241m=\u001b[39m{\u001b[38;5;124m'\u001b[39m\u001b[38;5;124mUnnamed: 0\u001b[39m\u001b[38;5;124m'\u001b[39m:\u001b[38;5;124m'\u001b[39m\u001b[38;5;124mLocation\u001b[39m\u001b[38;5;124m'\u001b[39m})\n\u001b[1;32m      7\u001b[0m \u001b[38;5;66;03m# Drop the totals, we can compute later and it is better as they changed it 2017-2018.\u001b[39;00m\n\u001b[0;32m----> 8\u001b[0m df_yearly \u001b[38;5;241m=\u001b[39m df_yearly[\u001b[43mdf_yearly\u001b[49m\u001b[43m[\u001b[49m\u001b[38;5;124;43m'\u001b[39;49m\u001b[38;5;124;43mAge\u001b[39;49m\u001b[38;5;124;43m'\u001b[39;49m\u001b[43m]\u001b[49m\u001b[38;5;241m!=\u001b[39m\u001b[38;5;124m\"\u001b[39m\u001b[38;5;124mTotal\u001b[39m\u001b[38;5;124m\"\u001b[39m]\n\u001b[1;32m     10\u001b[0m name \u001b[38;5;241m=\u001b[39m df_yearly\u001b[38;5;241m.\u001b[39miloc[\u001b[38;5;241m0\u001b[39m,\u001b[38;5;241m0\u001b[39m]\n\u001b[1;32m     12\u001b[0m \u001b[38;5;66;03m#Put the true names into the file, nan is a float else it is integeer \u001b[39;00m\n",
      "File \u001b[0;32m/opt/anaconda3/envs/r_baseline/lib/python3.13/site-packages/pandas/core/frame.py:4102\u001b[0m, in \u001b[0;36mDataFrame.__getitem__\u001b[0;34m(self, key)\u001b[0m\n\u001b[1;32m   4100\u001b[0m \u001b[38;5;28;01mif\u001b[39;00m \u001b[38;5;28mself\u001b[39m\u001b[38;5;241m.\u001b[39mcolumns\u001b[38;5;241m.\u001b[39mnlevels \u001b[38;5;241m>\u001b[39m \u001b[38;5;241m1\u001b[39m:\n\u001b[1;32m   4101\u001b[0m     \u001b[38;5;28;01mreturn\u001b[39;00m \u001b[38;5;28mself\u001b[39m\u001b[38;5;241m.\u001b[39m_getitem_multilevel(key)\n\u001b[0;32m-> 4102\u001b[0m indexer \u001b[38;5;241m=\u001b[39m \u001b[38;5;28;43mself\u001b[39;49m\u001b[38;5;241;43m.\u001b[39;49m\u001b[43mcolumns\u001b[49m\u001b[38;5;241;43m.\u001b[39;49m\u001b[43mget_loc\u001b[49m\u001b[43m(\u001b[49m\u001b[43mkey\u001b[49m\u001b[43m)\u001b[49m\n\u001b[1;32m   4103\u001b[0m \u001b[38;5;28;01mif\u001b[39;00m is_integer(indexer):\n\u001b[1;32m   4104\u001b[0m     indexer \u001b[38;5;241m=\u001b[39m [indexer]\n",
      "File \u001b[0;32m/opt/anaconda3/envs/r_baseline/lib/python3.13/site-packages/pandas/core/indexes/base.py:3812\u001b[0m, in \u001b[0;36mIndex.get_loc\u001b[0;34m(self, key)\u001b[0m\n\u001b[1;32m   3807\u001b[0m     \u001b[38;5;28;01mif\u001b[39;00m \u001b[38;5;28misinstance\u001b[39m(casted_key, \u001b[38;5;28mslice\u001b[39m) \u001b[38;5;129;01mor\u001b[39;00m (\n\u001b[1;32m   3808\u001b[0m         \u001b[38;5;28misinstance\u001b[39m(casted_key, abc\u001b[38;5;241m.\u001b[39mIterable)\n\u001b[1;32m   3809\u001b[0m         \u001b[38;5;129;01mand\u001b[39;00m \u001b[38;5;28many\u001b[39m(\u001b[38;5;28misinstance\u001b[39m(x, \u001b[38;5;28mslice\u001b[39m) \u001b[38;5;28;01mfor\u001b[39;00m x \u001b[38;5;129;01min\u001b[39;00m casted_key)\n\u001b[1;32m   3810\u001b[0m     ):\n\u001b[1;32m   3811\u001b[0m         \u001b[38;5;28;01mraise\u001b[39;00m InvalidIndexError(key)\n\u001b[0;32m-> 3812\u001b[0m     \u001b[38;5;28;01mraise\u001b[39;00m \u001b[38;5;167;01mKeyError\u001b[39;00m(key) \u001b[38;5;28;01mfrom\u001b[39;00m \u001b[38;5;21;01merr\u001b[39;00m\n\u001b[1;32m   3813\u001b[0m \u001b[38;5;28;01mexcept\u001b[39;00m \u001b[38;5;167;01mTypeError\u001b[39;00m:\n\u001b[1;32m   3814\u001b[0m     \u001b[38;5;66;03m# If we have a listlike key, _check_indexing_error will raise\u001b[39;00m\n\u001b[1;32m   3815\u001b[0m     \u001b[38;5;66;03m#  InvalidIndexError. Otherwise we fall through and re-raise\u001b[39;00m\n\u001b[1;32m   3816\u001b[0m     \u001b[38;5;66;03m#  the TypeError.\u001b[39;00m\n\u001b[1;32m   3817\u001b[0m     \u001b[38;5;28mself\u001b[39m\u001b[38;5;241m.\u001b[39m_check_indexing_error(key)\n",
      "\u001b[0;31mKeyError\u001b[0m: 'Age'"
     ]
    }
   ],
   "source": [
    "\n",
    "for year in seasons:\n",
    "    #Data has multiple sheets and is formatted horribly.\n",
    "    \n",
    "    df_yearly =    pd.read_excel('dvsa1203_v2.ods',engine='odf',sheet_name=year,skiprows=6)\n",
    "    \n",
    "    df_yearly = df_yearly.rename(columns={'Unnamed: 0':'Location'})\n",
    "    # Drop the totals, we can compute later and it is better as they changed it 2017-2018.\n",
    "    \n",
    "    #THEY DO NOT HAVE THE AGE COLUMN IN EARLIER DATASETS JESUS.b\n",
    "    df_yearly = df_yearly[df_yearly['Age']!=\"Total\"]\n",
    "    \n",
    "    name = df_yearly.iloc[0,0]\n",
    "    \n",
    "    #Put the true names into the file, nan is a float else it is integeer \n",
    "    for i in range(df_yearly.shape[0]):\n",
    "        #If the location is of type float it means it is a missing value we replace it with the previous name.\n",
    "        #If location is not a float it is a string, all posterior missing values will be that string, until next.\n",
    "        if type(df_yearly.iloc[i,0])==float:\n",
    "            \n",
    "            df_yearly.iloc[i,0] = name\n",
    "        else:\n",
    "            name = df_yearly.iloc[i,0]\n",
    "            \n",
    "    \n",
    "    look_na = df_yearly.columns.to_list()\n",
    "    look_na.remove('Location')\n",
    "    \n",
    "    \n",
    "    # Drop only the rows with only the name of the place and nothing else.\n",
    "    df_yearly = df_yearly.dropna(how=\"all\",subset=look_na)\n",
    "    df_yearly = df_yearly.reset_index(drop=True)\n",
    "    \n",
    "    #REFORMAT DATA\n",
    "    \n",
    "    #Baseline, male\n",
    "    men = df_yearly.iloc[:,[0,1,2,3,4,]]\n",
    "    men['gender']=0\n",
    "    # Females rename the columns\n",
    "    women = df_yearly.iloc[:,[0,1,5,6,7,]].rename(columns={\"Conducted.1\":\"Conducted\",\"Passes.1\":\"Passes\",\"Pass rate (%).1\":\"Pass rate (%)\"})\n",
    "    women['gender']=1\n",
    "    #Total, added females and males\n",
    "    \n",
    "    total = df_yearly.iloc[:,[0,1,8,9,10,]].rename(columns={\"Conducted.2\":\"Conducted\",\"Passes.2\":\"Passes\",\"Pass rate (%).2\":\"Pass rate (%)\"})\n",
    "    total['gender']=2\n",
    "    \n",
    "    \n",
    "    df_yearly = pd.concat([men,women,total],axis=0)\n",
    "    df_yearly['year']=year\n",
    "    \n",
    "    df = pd.concat([df_yearly,df],axis=0)\n",
    "    print(f\"{year} completed succesfully\")"
   ]
  },
  {
   "cell_type": "code",
   "execution_count": null,
   "id": "3ef64c60-031e-41f7-ba9b-8eca0800dda2",
   "metadata": {},
   "outputs": [],
   "source": [
    "df"
   ]
  }
 ],
 "metadata": {
  "kernelspec": {
   "display_name": "Python 3 (ipykernel)",
   "language": "python",
   "name": "python3"
  },
  "language_info": {
   "codemirror_mode": {
    "name": "ipython",
    "version": 3
   },
   "file_extension": ".py",
   "mimetype": "text/x-python",
   "name": "python",
   "nbconvert_exporter": "python",
   "pygments_lexer": "ipython3",
   "version": "3.13.0"
  }
 },
 "nbformat": 4,
 "nbformat_minor": 5
}
