{
 "cells": [
  {
   "cell_type": "code",
   "execution_count": 39,
   "id": "67495349-585a-4507-a99e-c93144486689",
   "metadata": {},
   "outputs": [],
   "source": [
    "import pandas as pd\n",
    "import math # find nan with logic\n"
   ]
  },
  {
   "cell_type": "markdown",
   "id": "fe258101-7523-42ce-9329-7fb64637305c",
   "metadata": {},
   "source": [
    "# Fixing the formatting of these wonderful people\n",
    "    1. I had to install LibreOffice just to view the files...\n",
    "    2. Unnamed 0 is the place where the exam takes place at.\n",
    "    3. Loop over Unnamed 0 if nan then put the previous\n",
    "    4. Delete the all NaN apart from location, as those are rows that just specify location.\n",
    "    5. Finally we will append, first just few columns then next which are female and finally the total, we will see later if we use those.\n",
    "    "
   ]
  },
  {
   "cell_type": "code",
   "execution_count": 16,
   "id": "996547e7-ae67-44b4-83b9-5c9575cca2e7",
   "metadata": {},
   "outputs": [],
   "source": [
    "#Data has multiple sheets and is formatted horribly.\n",
    "\n",
    "#Male first, then female then total.\n",
    "\n",
    "#Need to delete rows where it is just the new name\n",
    "\n",
    "test =    pd.read_excel('dvsa1203_v2.ods',engine='odf',sheet_name='2023-24',skiprows=6)"
   ]
  },
  {
   "cell_type": "code",
   "execution_count": 23,
   "id": "f6f05bff-636e-45bf-834b-3b0d579700db",
   "metadata": {},
   "outputs": [],
   "source": [
    "test = test.rename(columns={'Unnamed: 0':'Location'})"
   ]
  },
  {
   "cell_type": "code",
   "execution_count": 62,
   "id": "b91c620f-7e62-4db1-941f-21554f3ee3ef",
   "metadata": {},
   "outputs": [],
   "source": [
    "name = test.iloc[0,0]\n",
    "\n",
    "#Put the true names into the file, nan is a float else it is integeer \n",
    "for i in range(test.shape[0]):\n",
    "    #If the location is of type float it means it is a missing value we replace it with the previous name.\n",
    "    #If location is not a float it is a string, all posterior missing values will be that string, until next.\n",
    "    if type(test.iloc[i,0])==float:\n",
    "        \n",
    "        test.iloc[i,0] = name\n",
    "    else:\n",
    "        name = test.iloc[i,0]\n",
    "        "
   ]
  },
  {
   "cell_type": "code",
   "execution_count": 67,
   "id": "8546e071-8f2b-4965-b0e9-e948a114629e",
   "metadata": {},
   "outputs": [
    {
     "data": {
      "text/plain": [
       "['Age',\n",
       " 'Conducted',\n",
       " 'Passes',\n",
       " 'Pass rate (%)',\n",
       " 'Conducted.1',\n",
       " 'Passes.1',\n",
       " 'Pass rate (%).1',\n",
       " 'Conducted.2',\n",
       " 'Passes.2',\n",
       " 'Pass rate (%).2']"
      ]
     },
     "execution_count": 67,
     "metadata": {},
     "output_type": "execute_result"
    }
   ],
   "source": [
    "look_na = test.columns.to_list()\n",
    "look_na.remove('Location')\n",
    "look_na"
   ]
  },
  {
   "cell_type": "code",
   "execution_count": 70,
   "id": "465a38a6-f254-4b96-9dd2-efe62d551b7c",
   "metadata": {},
   "outputs": [],
   "source": [
    "test = test.dropna(subset=look_na)"
   ]
  }
 ],
 "metadata": {
  "kernelspec": {
   "display_name": "Python 3 (ipykernel)",
   "language": "python",
   "name": "python3"
  },
  "language_info": {
   "codemirror_mode": {
    "name": "ipython",
    "version": 3
   },
   "file_extension": ".py",
   "mimetype": "text/x-python",
   "name": "python",
   "nbconvert_exporter": "python",
   "pygments_lexer": "ipython3",
   "version": "3.13.0"
  }
 },
 "nbformat": 4,
 "nbformat_minor": 5
}
