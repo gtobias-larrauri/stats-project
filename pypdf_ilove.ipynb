{
 "cells": [
  {
   "cell_type": "code",
   "execution_count": 1,
   "id": "399ccc9e-aa42-4e63-af54-f0bbba05c804",
   "metadata": {},
   "outputs": [],
   "source": [
    "from pypdf import PdfWriter\n",
    "\n",
    "merger = PdfWriter()\n",
    "\n",
    "input1 = open(\"Stats_project.pdf\", \"rb\")\n",
    "input2 = open(\"eda.pdf\", \"rb\")\n",
    "\n",
    "# Add the first 3 pages of input1 document to output\n",
    "merger.append(fileobj=input1, pages=(0, 1))\n",
    "\n",
    "# Insert the first page of input2 into the output beginning after the second page\n",
    "merger.merge(position=2, fileobj=input2)\n",
    "\n",
    "# Append entire input3 document to the end of the output document\n",
    "merger.append(fileobj=input1, pages=(2, 7))\n",
    "\n",
    "# Write to an output PDF document\n",
    "output = open(\"stats_def.pdf\", \"wb\")\n",
    "merger.write(output)\n",
    "\n",
    "# Close file descriptors\n",
    "merger.close()\n",
    "output.close()"
   ]
  }
 ],
 "metadata": {
  "kernelspec": {
   "display_name": "Python 3 (ipykernel)",
   "language": "python",
   "name": "python3"
  },
  "language_info": {
   "codemirror_mode": {
    "name": "ipython",
    "version": 3
   },
   "file_extension": ".py",
   "mimetype": "text/x-python",
   "name": "python",
   "nbconvert_exporter": "python",
   "pygments_lexer": "ipython3",
   "version": "3.13.0"
  }
 },
 "nbformat": 4,
 "nbformat_minor": 5
}
