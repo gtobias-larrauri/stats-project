{
 "cells": [
  {
   "cell_type": "markdown",
   "id": "06354bc1-e922-4504-ac9c-bf5635b66bb2",
   "metadata": {},
   "source": [
    "# Where to take driving exam? Candidate number: 50691\n",
    "<hr>"
   ]
  },
  {
   "cell_type": "markdown",
   "id": "97309b41-6928-4dd6-af96-717c5fef7804",
   "metadata": {},
   "source": [
    "## Objectives:\n",
    "- Expected passing for XYZ in both locations.\n",
    "- Where should XYZ take the test? Statistical evidence in favour of the decision?\n",
    "- Justify the methodology used, explain assumptions.\n",
    "- Final report needs to be understood by non-expert in statistics.\n",
    "- Commented code, so that it can be understood.\n",
    "- Strenghts and weaknesses, relate to assumptions I make. Also maybe mention missing data, XYZ thinks his/her driving skill is about average.\n",
    "- <b>8 pages max, can be shorter</b>\n"
   ]
  },
  {
   "cell_type": "markdown",
   "id": "87b75dca-7856-4d35-9717-1de08bfcace9",
   "metadata": {},
   "source": [
    "<hr> "
   ]
  },
  {
   "cell_type": "code",
   "execution_count": 7,
   "id": "689ceb36-4d7b-4498-9081-1547f540445b",
   "metadata": {},
   "outputs": [
    {
     "name": "stdout",
     "output_type": "stream",
     "text": [
      "The profile of XYZ:\n",
      "- Age:  21\n",
      "- Gender:  Female\n",
      "- Home address:  Reading\n"
     ]
    }
   ],
   "source": [
    "ID <- 202215485\n",
    "source(\"XYZprofile.r\")\n",
    "XYZprofile(ID)"
   ]
  },
  {
   "cell_type": "markdown",
   "id": "f7cca6d1-98ea-44d6-b7a4-0eaabed96d81",
   "metadata": {},
   "source": [
    "## Exploratory data analysis:\n",
    "    This should follow a purpose, which is mostly sample selection:\n",
    "- Passing rate is higher in Reading\n",
    "- Similar sample size in both locations.\n",
    "- Large differences between males and females, they do not come from same distribution. -> Important for tests I guess.\n",
    "\n",
    "<b>Can we bunch together different ages, gender and years<b>\n",
    "\n",
    "Gender is immediately discarded as there are large differences. \n",
    "\n",
    "<b>To do:<b>\n",
    "\n",
    "- Check differences in passing rates for women of a different year, for all years.\n",
    "- If they are somewhat constant for a decent enough sample size. -> We can bunch women together from 20-23, see the slope.\n",
    "- If we can bunch ages together maybe time series plot becomes a bit smoother and we can bunch different years together.\n",
    "\n",
    "<i>On the other hand, if even when bunching time series plot is not smooth we can't use that, so start with time series bunched. If there is a lot of variability we just take latest year, and we just we can just check that year out.<i>\n",
    "\n",
    "<b>Confirmed time series is not too smooth, for now cut sample to most recent year. AND, within that year it is not too smooth so for test restrict the sample. To just women 21</b>\n",
    "\n",
    "\n",
    "This reasoning should be a bit better."
   ]
  },
  {
   "cell_type": "code",
   "execution_count": null,
   "id": "d949c0ca-1d17-4c26-9982-055adf9eac9d",
   "metadata": {},
   "outputs": [],
   "source": []
  },
  {
   "cell_type": "markdown",
   "id": "9a49ac80-9ec0-4f9c-811f-69f792ee50c1",
   "metadata": {},
   "source": [
    "## Logit can be a great option\n",
    "<b>Especially for conditional probability estimation<b>\n",
    "\n",
    "Remember for confidence interval quantify the epsilon uncertainty, can be an interesting fact. Is this valid with logit or not? That tutorial from ML class."
   ]
  },
  {
   "cell_type": "code",
   "execution_count": null,
   "id": "00daf3dc-73d5-4617-bd5b-4a58476d0446",
   "metadata": {},
   "outputs": [],
   "source": []
  },
  {
   "cell_type": "code",
   "execution_count": null,
   "id": "0eeeaf0e-9836-48ad-92d9-296ea21b778c",
   "metadata": {},
   "outputs": [],
   "source": []
  },
  {
   "cell_type": "markdown",
   "id": "0291e61d-8661-43f6-97f0-d170d2e7235c",
   "metadata": {},
   "source": [
    "## Tests, check out all of statistics chapter.\n",
    "\n",
    "We can start from most restrictive sample scenario, compare only women aged 21 in last year, if we discard with smallest sample we will discard with bigger sample.\n",
    "\n",
    "To do list:\n",
    "\n",
    "- Derivation of the fact that difference of two sample means follow an asymptotically normal distribution. I think I need to use the Delta method.\n",
    "\n",
    "- Talk about the power of the Wald test. If we increase the population size the test size would increase.\n",
    "\n",
    "<hr>"
   ]
  },
  {
   "cell_type": "markdown",
   "id": "9b3b4d69-2a78-4ab0-8cd2-02db065b32ac",
   "metadata": {},
   "source": [
    "### Derivation of Wald test.\n",
    "<b>Assume</b> that all 21 year old women have the same preparation and driving skill.\n",
    "\n",
    "Then we can say going into exam $R \\sim Binomial(N_r,p_r)$ and $Y \\sim Binomial(N_l,p_l)$\n",
    "\n",
    "That is every the probability that someone passes the exam is independent with the probability someone else passes it. \n",
    "\n",
    "<b>Assume</b> that the two binomials are independent, seems straightforward but there can be some selection issues and it is tough to formalize.\n",
    "\n",
    "Then we can set up an MLE estimator which will be smooth over parameter space so it will be asymptotically normal: $f(x,y) =f(x)f(y)$ taking logs means that p1 and p2 will be estimated independently. To get to $f(x)f(y)$ we have used the independence.\n",
    "\n",
    "Then we have a very nice theorem: 9.14 Theorem. Let $\\tau = g(\\theta)$ be a function of $\\theta$. Let $\\hat{\\theta}$ be the MLE of $\\theta$. Then $\\hat{\\tau} = g(\\hat{\\theta})$ is the MLE of $\\tau$.\n",
    "\n",
    "In our case the function is $g(p_r,p_l) = p_r - p_l$ so our MLE will just be the plug in. \n",
    "For the variance we can derive it easily through independence $\\textbf{V}(\\hat{p_r}) + \\textbf{V}(\\hat{p_l})$"
   ]
  },
  {
   "cell_type": "code",
   "execution_count": 13,
   "id": "3158e3d8-5231-420c-a4d0-e9f3c7befdae",
   "metadata": {},
   "outputs": [],
   "source": [
    "size_r = 98\n",
    "prob_r = 49/size_r\n",
    "\n",
    "size_l = 310\n",
    "prob_l = 135/size_l"
   ]
  },
  {
   "cell_type": "code",
   "execution_count": 32,
   "id": "d025a93e-d7d1-4b95-b965-e441a90c7410",
   "metadata": {},
   "outputs": [
    {
     "data": {
      "text/html": [
       "0.435483870967742"
      ],
      "text/latex": [
       "0.435483870967742"
      ],
      "text/markdown": [
       "0.435483870967742"
      ],
      "text/plain": [
       "[1] 0.4354839"
      ]
     },
     "metadata": {},
     "output_type": "display_data"
    }
   ],
   "source": [
    "prob_l"
   ]
  },
  {
   "cell_type": "code",
   "execution_count": 22,
   "id": "c49d385b-d2e8-42f0-96e2-79b8a8dc1f6d",
   "metadata": {},
   "outputs": [
    {
     "data": {
      "text/html": [
       "1.4142135623731"
      ],
      "text/latex": [
       "1.4142135623731"
      ],
      "text/markdown": [
       "1.4142135623731"
      ],
      "text/plain": [
       "[1] 1.414214"
      ]
     },
     "metadata": {},
     "output_type": "display_data"
    }
   ],
   "source": [
    "sqrt(2)"
   ]
  },
  {
   "cell_type": "code",
   "execution_count": 23,
   "id": "926c1ae6-8f24-4790-a7c2-1a33558b717b",
   "metadata": {},
   "outputs": [],
   "source": [
    "se_mle = sqrt( (prob_r)*(1-prob_r)/size_r + (prob_l)*(1-prob_l)/size_l )"
   ]
  },
  {
   "cell_type": "code",
   "execution_count": 25,
   "id": "15f7b07b-0d77-4c41-8717-222b52ecb411",
   "metadata": {},
   "outputs": [],
   "source": [
    "W = (prob_r-prob_l)/se_mle"
   ]
  },
  {
   "cell_type": "code",
   "execution_count": 29,
   "id": "ef2aef1c-5d66-4518-8d23-f0ec7a9e7040",
   "metadata": {},
   "outputs": [
    {
     "data": {
      "text/html": [
       "FALSE"
      ],
      "text/latex": [
       "FALSE"
      ],
      "text/markdown": [
       "FALSE"
      ],
      "text/plain": [
       "[1] FALSE"
      ]
     },
     "metadata": {},
     "output_type": "display_data"
    }
   ],
   "source": [
    "abs(W) > 1.645"
   ]
  },
  {
   "cell_type": "markdown",
   "id": "bd7b50ef-23fb-4ba3-ad6b-923114dd8500",
   "metadata": {},
   "source": [
    "Under the most strict assumptions we can't discard the null, we either need additional data or a more powerful test."
   ]
  },
  {
   "cell_type": "markdown",
   "id": "c9fb4478-8873-4282-a7b6-b74b0edec9b3",
   "metadata": {},
   "source": [
    "### Permutation test:"
   ]
  },
  {
   "cell_type": "code",
   "execution_count": null,
   "id": "21f2e8f7-fc91-4a77-8580-76112726d8c7",
   "metadata": {},
   "outputs": [],
   "source": []
  },
  {
   "cell_type": "code",
   "execution_count": null,
   "id": "d655ed61-9dcc-4309-a92e-af98737fd516",
   "metadata": {},
   "outputs": [],
   "source": []
  },
  {
   "cell_type": "markdown",
   "id": "f1271ae9-9e29-4020-95d9-d494b5550dda",
   "metadata": {},
   "source": [
    "### Parametric bootstrap can be used to test as well no?\n",
    "\n",
    "Initially thought of it for the plots but can be implemented here as well.\n",
    "\n",
    "We have derived our MLE estimator so parametric bootstrap is here just to draw from Binomial with the plug in estimator which is the sample average.\n",
    "\n",
    "Talk about relationship between confidence interval and testing."
   ]
  },
  {
   "cell_type": "code",
   "execution_count": 9,
   "id": "f31ebe31-63e2-43d6-ba79-dc19309e3030",
   "metadata": {},
   "outputs": [],
   "source": [
    "boot_s = 100000"
   ]
  },
  {
   "cell_type": "code",
   "execution_count": 3,
   "id": "72fa7de4-7694-466c-a148-eafd16ec0d4b",
   "metadata": {},
   "outputs": [],
   "source": [
    "#  women 21 for latest year.\n",
    "#310.0\t135.0\t\n",
    "# 98.0\t49.0\n"
   ]
  },
  {
   "cell_type": "code",
   "execution_count": 15,
   "id": "8e5e2ec4-0085-4aac-8674-36c5e74a3d85",
   "metadata": {},
   "outputs": [],
   "source": [
    "set.seed(100)\n",
    "boot_prob_r <- rbinom(boot_s, size_r, prob_r)/size_r\n",
    "boot_prob_l <- rbinom(boot_s, size_l, prob_l)/size_l\n"
   ]
  },
  {
   "cell_type": "code",
   "execution_count": 21,
   "id": "72f9ff6f-0809-4d19-943d-246458790095",
   "metadata": {},
   "outputs": [
    {
     "data": {
      "text/html": [
       "<strong>2.5%:</strong> 0.380645161290323"
      ],
      "text/latex": [
       "\\textbf{2.5\\textbackslash{}\\%:} 0.380645161290323"
      ],
      "text/markdown": [
       "**2.5%:** 0.380645161290323"
      ],
      "text/plain": [
       "     2.5% \n",
       "0.3806452 "
      ]
     },
     "metadata": {},
     "output_type": "display_data"
    },
    {
     "data": {
      "text/html": [
       "<strong>97.5%:</strong> 0.490322580645161"
      ],
      "text/latex": [
       "\\textbf{97.5\\textbackslash{}\\%:} 0.490322580645161"
      ],
      "text/markdown": [
       "**97.5%:** 0.490322580645161"
      ],
      "text/plain": [
       "    97.5% \n",
       "0.4903226 "
      ]
     },
     "metadata": {},
     "output_type": "display_data"
    },
    {
     "data": {
      "text/html": [
       "<strong>2.5%:</strong> 0.397959183673469"
      ],
      "text/latex": [
       "\\textbf{2.5\\textbackslash{}\\%:} 0.397959183673469"
      ],
      "text/markdown": [
       "**2.5%:** 0.397959183673469"
      ],
      "text/plain": [
       "     2.5% \n",
       "0.3979592 "
      ]
     },
     "metadata": {},
     "output_type": "display_data"
    },
    {
     "data": {
      "text/html": [
       "<strong>97.5%:</strong> 0.602040816326531"
      ],
      "text/latex": [
       "\\textbf{97.5\\textbackslash{}\\%:} 0.602040816326531"
      ],
      "text/markdown": [
       "**97.5%:** 0.602040816326531"
      ],
      "text/plain": [
       "    97.5% \n",
       "0.6020408 "
      ]
     },
     "metadata": {},
     "output_type": "display_data"
    }
   ],
   "source": [
    "#Smallish sample.\n",
    "\n",
    "quantile(boot_prob_l,0.025)\n",
    "quantile(boot_prob_l,0.975)\n",
    "\n",
    "\n",
    "quantile(boot_prob_r,0.025)\n",
    "quantile(boot_prob_r,0.975)"
   ]
  }
 ],
 "metadata": {
  "kernelspec": {
   "display_name": "R",
   "language": "R",
   "name": "ir"
  },
  "language_info": {
   "codemirror_mode": "r",
   "file_extension": ".r",
   "mimetype": "text/x-r-source",
   "name": "R",
   "pygments_lexer": "r",
   "version": "4.3.3"
  }
 },
 "nbformat": 4,
 "nbformat_minor": 5
}
