{
 "cells": [
  {
   "cell_type": "markdown",
   "id": "79605f92-8dd4-4974-a6a0-0b67a8b60ff5",
   "metadata": {},
   "source": [
    "# Abstract\n",
    "My advice to XYZ (21 year old woman from Reading), supported by statistical evidence, is to <b>take the driving exam in Reading</b>. However the data is not perfect. We do not know the skills/practice of people who take the exam in Reading and London. This unknown distribution of skills could affect both my recommendation on where to take the exam and the predicted passing rate for her.\n",
    "<hr> "
   ]
  },
  {
   "cell_type": "code",
   "execution_count": 1,
   "id": "689ceb36-4d7b-4498-9081-1547f540445b",
   "metadata": {},
   "outputs": [
    {
     "name": "stdout",
     "output_type": "stream",
     "text": [
      "The profile of XYZ:\n",
      "- Age:  21\n",
      "- Gender:  Female\n",
      "- Home address:  Reading\n"
     ]
    }
   ],
   "source": [
    "ID <- 202215485\n",
    "source(\"XYZprofile.r\")\n",
    "XYZprofile(ID)\n",
    "# With average driving skills."
   ]
  },
  {
   "cell_type": "code",
   "execution_count": 20,
   "id": "09cb5f3e-9e9a-4768-a5b0-88c3b99031f4",
   "metadata": {},
   "outputs": [],
   "source": [
    "library(dplyr)\n",
    "set.seed(100)"
   ]
  },
  {
   "cell_type": "markdown",
   "id": "df8c5a1c-ef30-40c4-a906-60da99b3e828",
   "metadata": {},
   "source": [
    "<hr>"
   ]
  },
  {
   "cell_type": "markdown",
   "id": "f7cca6d1-98ea-44d6-b7a4-0eaabed96d81",
   "metadata": {},
   "source": [
    "# Exploratory data analysis:\n",
    "I downloaded and cleaned the data using Python, this code is ommited due to space limitations. I then created the plot below which serves as exploratory data analysis.  "
   ]
  },
  {
   "cell_type": "code",
   "execution_count": 3,
   "id": "d949c0ca-1d17-4c26-9982-055adf9eac9d",
   "metadata": {},
   "outputs": [],
   "source": [
    "passing_rates_reading <- read.csv(\"passing_rates_reading.csv\")"
   ]
  },
  {
   "cell_type": "code",
   "execution_count": 4,
   "id": "ed569d8d-d8f0-4f45-94e8-1cffc51c1cc7",
   "metadata": {
    "scrolled": true
   },
   "outputs": [
    {
     "data": {
      "text/html": [
       "<table class=\"dataframe\">\n",
       "<caption>A data.frame: 6 × 7</caption>\n",
       "<thead>\n",
       "\t<tr><th></th><th scope=col>Location</th><th scope=col>Age</th><th scope=col>Conducted</th><th scope=col>Passes</th><th scope=col>Pass.rate....</th><th scope=col>gender</th><th scope=col>year</th></tr>\n",
       "\t<tr><th></th><th scope=col>&lt;chr&gt;</th><th scope=col>&lt;dbl&gt;</th><th scope=col>&lt;dbl&gt;</th><th scope=col>&lt;dbl&gt;</th><th scope=col>&lt;dbl&gt;</th><th scope=col>&lt;chr&gt;</th><th scope=col>&lt;chr&gt;</th></tr>\n",
       "</thead>\n",
       "<tbody>\n",
       "\t<tr><th scope=row>15</th><td>Wood Green (London)</td><td>22</td><td>306</td><td>144</td><td>47.05882</td><td>men  </td><td>2023-24</td></tr>\n",
       "\t<tr><th scope=row>16</th><td>Wood Green (London)</td><td>23</td><td>323</td><td>151</td><td>46.74923</td><td>men  </td><td>2023-24</td></tr>\n",
       "\t<tr><th scope=row>17</th><td>Wood Green (London)</td><td>24</td><td>317</td><td>131</td><td>41.32492</td><td>men  </td><td>2023-24</td></tr>\n",
       "\t<tr><th scope=row>18</th><td>Wood Green (London)</td><td>25</td><td>292</td><td>128</td><td>43.83562</td><td>men  </td><td>2023-24</td></tr>\n",
       "\t<tr><th scope=row>19</th><td>Reading            </td><td>17</td><td>309</td><td>188</td><td>60.84142</td><td>women</td><td>2023-24</td></tr>\n",
       "\t<tr><th scope=row>20</th><td>Reading            </td><td>18</td><td>296</td><td>162</td><td>54.72973</td><td>women</td><td>2023-24</td></tr>\n",
       "</tbody>\n",
       "</table>\n"
      ],
      "text/latex": [
       "A data.frame: 6 × 7\n",
       "\\begin{tabular}{r|lllllll}\n",
       "  & Location & Age & Conducted & Passes & Pass.rate.... & gender & year\\\\\n",
       "  & <chr> & <dbl> & <dbl> & <dbl> & <dbl> & <chr> & <chr>\\\\\n",
       "\\hline\n",
       "\t15 & Wood Green (London) & 22 & 306 & 144 & 47.05882 & men   & 2023-24\\\\\n",
       "\t16 & Wood Green (London) & 23 & 323 & 151 & 46.74923 & men   & 2023-24\\\\\n",
       "\t17 & Wood Green (London) & 24 & 317 & 131 & 41.32492 & men   & 2023-24\\\\\n",
       "\t18 & Wood Green (London) & 25 & 292 & 128 & 43.83562 & men   & 2023-24\\\\\n",
       "\t19 & Reading             & 17 & 309 & 188 & 60.84142 & women & 2023-24\\\\\n",
       "\t20 & Reading             & 18 & 296 & 162 & 54.72973 & women & 2023-24\\\\\n",
       "\\end{tabular}\n"
      ],
      "text/markdown": [
       "\n",
       "A data.frame: 6 × 7\n",
       "\n",
       "| <!--/--> | Location &lt;chr&gt; | Age &lt;dbl&gt; | Conducted &lt;dbl&gt; | Passes &lt;dbl&gt; | Pass.rate.... &lt;dbl&gt; | gender &lt;chr&gt; | year &lt;chr&gt; |\n",
       "|---|---|---|---|---|---|---|---|\n",
       "| 15 | Wood Green (London) | 22 | 306 | 144 | 47.05882 | men   | 2023-24 |\n",
       "| 16 | Wood Green (London) | 23 | 323 | 151 | 46.74923 | men   | 2023-24 |\n",
       "| 17 | Wood Green (London) | 24 | 317 | 131 | 41.32492 | men   | 2023-24 |\n",
       "| 18 | Wood Green (London) | 25 | 292 | 128 | 43.83562 | men   | 2023-24 |\n",
       "| 19 | Reading             | 17 | 309 | 188 | 60.84142 | women | 2023-24 |\n",
       "| 20 | Reading             | 18 | 296 | 162 | 54.72973 | women | 2023-24 |\n",
       "\n"
      ],
      "text/plain": [
       "   Location            Age Conducted Passes Pass.rate.... gender year   \n",
       "15 Wood Green (London) 22  306       144    47.05882      men    2023-24\n",
       "16 Wood Green (London) 23  323       151    46.74923      men    2023-24\n",
       "17 Wood Green (London) 24  317       131    41.32492      men    2023-24\n",
       "18 Wood Green (London) 25  292       128    43.83562      men    2023-24\n",
       "19 Reading             17  309       188    60.84142      women  2023-24\n",
       "20 Reading             18  296       162    54.72973      women  2023-24"
      ]
     },
     "metadata": {},
     "output_type": "display_data"
    }
   ],
   "source": [
    "passing_rates_reading[15:20,]"
   ]
  },
  {
   "cell_type": "markdown",
   "id": "8d5c4f8d-a82e-47b3-91ec-dfcca6fedba2",
   "metadata": {},
   "source": [
    "I use this exploratory data analysis to inform which part of the sample I use in posterior analysis.\n",
    "\n",
    "First, let us look at the trends across time - left column of the plot -, we can infer some important facts from this data (which is aggregated across different ages).\n",
    "The passing rates in London are lower for both men and women. There seems to be an upward trend in passing rates both in London and Reading over the sample years, however, in the post covid years there seems to be a negative trend, especially in Reading. Also notice that since Covid, there has been a big decrease in the total tests taken in Reading. Finally, males pass the exam at higher rates, especially in London.\n",
    "\n",
    "Since there seems to be some uncertainty across time -both in passing rates and exams taken- I will only use the last year of available data. Since there are also large differences across gender, I will only be using women to test where XYZ -who is a 21 year old woman- should take the exam. \n",
    "\n",
    "Now we can look at the differences across ages for the year 2023-24 (right column). We can immediately see that there are differences across ages, some may be due to noise/randomness while others may be due to concrete reasons. I would argue that people that take a driving test at 17 are very motivated and prepared. I do not think these people are equivalent to others who take the driving test later in their lives. On the other hand, I would argue that differences between 21 and 22 years olds are probably due to randomness.   \n",
    "\n",
    "To start, I will take the most restrictive approach possible, I will only compare women aged 21 that took the driving test in 2023-24. That will leave me with a small sample and from there I will relax my assumptions (including women of other ages).\n",
    "<hr>"
   ]
  },
  {
   "cell_type": "markdown",
   "id": "9a49ac80-9ec0-4f9c-811f-69f792ee50c1",
   "metadata": {},
   "source": [
    "# Predicted passing rate.\n"
   ]
  },
  {
   "cell_type": "code",
   "execution_count": 22,
   "id": "556b9d4b-571b-4ff2-9c30-2b0cc02537ee",
   "metadata": {},
   "outputs": [],
   "source": [
    "# This function preps the data for any subset I want. In all cases I only use data from 2023-24\n",
    "\n",
    "probs_for_test <- function(df,age=c(21)){\n",
    "    #Works for any age grouping. Including a single age.\n",
    "    \n",
    "    p_rate_age_subset <- subset(df, Age %in% c(age))\n",
    "    \n",
    "    # I want to sum over age keeping gender year and location constant.\n",
    "    \n",
    "    p_rate_age_subset <- p_rate_age_subset %>% group_by(gender, year, Location) %>% \n",
    "      summarise(conducted=sum(\n",
    "      Conducted), passes = sum(Passes),\n",
    "           .groups=\"keep\")\n",
    "    \n",
    "    #Only use 2023-24 data.\n",
    "    \n",
    "    p_rate_age_subset <- data.frame(subset(p_rate_age_subset, year==\"2023-24\" & gender==\"women\"))\n",
    "    \n",
    "    rownames(p_rate_age_subset) <- p_rate_age_subset$Location\n",
    "\n",
    "    #Put the elements in a nice vector for subsequent analysis.\n",
    "    \n",
    "    pass_r <- p_rate_age_subset[\"Reading\", \"passes\"]\n",
    "    tot_r <- p_rate_age_subset[\"Reading\", \"conducted\"]\n",
    "    pass_l <- p_rate_age_subset[\"Wood Green (London)\", \"passes\"]\n",
    "    tot_l <- p_rate_age_subset[\"Wood Green (London)\", \"conducted\"]\n",
    "    \n",
    "    data_for_test <- c(pass_r,tot_r,pass_l,tot_l)\n",
    "    \n",
    "    return (data_for_test)\n",
    "}  "
   ]
  },
  {
   "cell_type": "code",
   "execution_count": 6,
   "id": "631e64da-4977-431d-a113-64e77c2d4a44",
   "metadata": {},
   "outputs": [],
   "source": [
    "# This code was copy pasted from the latter permutation function, it is very similar.\n",
    "cond_mean_boot <- function(params, iter){\n",
    "    # The pre processing function will give the parameters in the following order:\n",
    "    pass_r <-params[1]\n",
    "    total_r <- params[2]\n",
    "    pass_l <- params[3]\n",
    "    total_l <-params[4]\n",
    "\n",
    "    estimate_r <- round(pass_r/total_r, digits = 2)\n",
    "    estimate_l <- round(pass_l/total_l, digits = 2)\n",
    "\n",
    "    return(c(estimate_r,estimate_l))\n",
    "\n",
    "}    "
   ]
  },
  {
   "cell_type": "code",
   "execution_count": 7,
   "id": "8ad5ba7f-8999-4c64-9f91-51f4a88981a0",
   "metadata": {},
   "outputs": [
    {
     "data": {
      "text/html": [
       "<style>\n",
       ".list-inline {list-style: none; margin:0; padding: 0}\n",
       ".list-inline>li {display: inline-block}\n",
       ".list-inline>li:not(:last-child)::after {content: \"\\00b7\"; padding: 0 .5ex}\n",
       "</style>\n",
       "<ol class=list-inline><li>0.5</li><li>0.44</li></ol>\n"
      ],
      "text/latex": [
       "\\begin{enumerate*}\n",
       "\\item 0.5\n",
       "\\item 0.44\n",
       "\\end{enumerate*}\n"
      ],
      "text/markdown": [
       "1. 0.5\n",
       "2. 0.44\n",
       "\n",
       "\n"
      ],
      "text/plain": [
       "[1] 0.50 0.44"
      ]
     },
     "metadata": {},
     "output_type": "display_data"
    }
   ],
   "source": [
    "param <- probs_for_test(passing_rates_reading,c(21))\n",
    "cond_mean_boot(param,10000)"
   ]
  },
  {
   "cell_type": "code",
   "execution_count": 8,
   "id": "b640aaed-3ba4-413e-9020-cde180242db5",
   "metadata": {},
   "outputs": [
    {
     "data": {
      "text/html": [
       "<style>\n",
       ".list-inline {list-style: none; margin:0; padding: 0}\n",
       ".list-inline>li {display: inline-block}\n",
       ".list-inline>li:not(:last-child)::after {content: \"\\00b7\"; padding: 0 .5ex}\n",
       "</style>\n",
       "<ol class=list-inline><li>0.49</li><li>0.43</li></ol>\n"
      ],
      "text/latex": [
       "\\begin{enumerate*}\n",
       "\\item 0.49\n",
       "\\item 0.43\n",
       "\\end{enumerate*}\n"
      ],
      "text/markdown": [
       "1. 0.49\n",
       "2. 0.43\n",
       "\n",
       "\n"
      ],
      "text/plain": [
       "[1] 0.49 0.43"
      ]
     },
     "metadata": {},
     "output_type": "display_data"
    }
   ],
   "source": [
    "param <- probs_for_test(passing_rates_reading,c(20,21,22))\n",
    "cond_mean_boot(param,10000)"
   ]
  },
  {
   "cell_type": "code",
   "execution_count": 9,
   "id": "2c4dd020-e7b8-427d-8812-07830719aaa7",
   "metadata": {},
   "outputs": [
    {
     "data": {
      "text/html": [
       "<style>\n",
       ".list-inline {list-style: none; margin:0; padding: 0}\n",
       ".list-inline>li {display: inline-block}\n",
       ".list-inline>li:not(:last-child)::after {content: \"\\00b7\"; padding: 0 .5ex}\n",
       "</style>\n",
       "<ol class=list-inline><li>0.48</li><li>0.43</li></ol>\n"
      ],
      "text/latex": [
       "\\begin{enumerate*}\n",
       "\\item 0.48\n",
       "\\item 0.43\n",
       "\\end{enumerate*}\n"
      ],
      "text/markdown": [
       "1. 0.48\n",
       "2. 0.43\n",
       "\n",
       "\n"
      ],
      "text/plain": [
       "[1] 0.48 0.43"
      ]
     },
     "metadata": {},
     "output_type": "display_data"
    }
   ],
   "source": [
    "param <- probs_for_test(passing_rates_reading,c(19,20,21,22,23))\n",
    "cond_mean_boot(param,10000)"
   ]
  },
  {
   "cell_type": "markdown",
   "id": "8c1ea3ec-4d96-4ea9-876b-aa735ab10789",
   "metadata": {},
   "source": [
    "| Predicted passing rate <br>(women in 2023/24) | Women aged 21 | Women aged 20-22        |  Women aged 19-23 \n",
    "|----------------|--------------|------------|--------|\n",
    "| <b>Reading</b>          |  0.5    | 0.49 | 0.48      \n",
    "| <b>London</b>           |   0.44    | 0.43     | 0.43       \n"
   ]
  },
  {
   "cell_type": "markdown",
   "id": "ecdeb162-4c81-48ae-a9f8-ffdcc34d857d",
   "metadata": {},
   "source": [
    "To estimate XYZ's passing rate one can just divide the total number of people who pass over the total number of people who take the exam. The difficult part is to determine who one should count. Following my exploratory analysis I only count women aged 21 for the first analysis and expand it to women aged 20-22 for the second one; arguing that women in this age range are very similar. In all cases I only use data from 2023-24.   \n",
    "\n",
    "In Reading, the expected probability of passing the exam seems to be roughly 50% for women. In London this expectation is a bit smaller, roughly 44% of women pass the test.\n",
    "\n",
    "This analysis requires weak conditions (Law of Large Numbers) that are satisfied, however, it is important to know that this expected passing rate is for a group of women aged X taking the exam in Reading or London (for 2023-24). If we knew the distribution of skill/practice time amongst these women, I would be able to give a more precise prediction for XYZ. I come back to this in the Limitations section.   \n",
    "\n",
    "<i>Technical note: I built a confidence interval for completeness using non-parametric bootstrap but I removed it as it was related to the following testing part.<i>\n",
    "<hr>"
   ]
  },
  {
   "cell_type": "markdown",
   "id": "0291e61d-8661-43f6-97f0-d170d2e7235c",
   "metadata": {},
   "source": [
    "# Where to take the test? Are the passing rates for women higher in Reading?\n",
    "\n",
    "Using the Permutation test I arrive at the conclusion that XYZ should take the exam in Reading. This test relies on few assumptions. I previously use the Wald test which gives inconclusive results under different stronger assumptions, therefore I prefer the results from the Permutation test.\n",
    "\n"
   ]
  },
  {
   "cell_type": "markdown",
   "id": "d1be8e25-3f18-4c4a-b1f6-3f9700d93c04",
   "metadata": {},
   "source": [
    "## Wald test:\n",
    "\n",
    "This is a statistical test that can be derived under certain assumptions.\n",
    "\n",
    "<b>Issue 1:</b> This is a test that requires you to have a very big sample so it might not work for my limited ones, especially in the case where I only include women aged 21.\n",
    "\n",
    "<b>Issue 2:</b> This test requires an assumption on the distribution of the data that is not likely to hold. It basically requires that passing the exam is like flipping the same coin for everyone. But we know that people go in to the exam having practiced different amounts of time. Therefore, a different coin is being flipped for each individual. For those that practice more, the coin that is flipped is more likely to result in a pass.\n",
    " \n",
    "\n",
    "<i>Technical note: This can be derived using MLE under the assumption that the data comes from two independent Binomial distributions.<i>"
   ]
  },
  {
   "cell_type": "code",
   "execution_count": 10,
   "id": "dd1f7351-0541-4aaa-9a20-840d938c802f",
   "metadata": {},
   "outputs": [],
   "source": [
    "wald_test <- function(params){\n",
    "    pass_r <-params[1]\n",
    "    size_r <- params[2]\n",
    "    pass_l <- params[3]\n",
    "    size_l <-params[4]\n",
    "\n",
    "    prob_r <-pass_r/size_r\n",
    "    prob_l <-pass_l/size_l\n",
    "    \n",
    "    # Assuming a Binomial distribution this is the standard error of the estimator.\n",
    "    se_mle <- sqrt( (prob_r)*(1-prob_r)/size_r + (prob_l)*(1-prob_l)/size_l )\n",
    "    \n",
    "    WALD <- (prob_r-prob_l)/se_mle\n",
    "    \n",
    "    return(WALD)\n",
    "}"
   ]
  },
  {
   "cell_type": "markdown",
   "id": "52de4087-91f3-4ea8-9c7a-25631f1985e0",
   "metadata": {},
   "source": [
    "We are looking for values as close to 0 as possible. Those would allow us to say that it is better to take the exam in Reading."
   ]
  },
  {
   "cell_type": "code",
   "execution_count": 11,
   "id": "a0ba0b97-fe03-4dbf-ada5-85f872020dd2",
   "metadata": {},
   "outputs": [],
   "source": [
    "p_val_wald <-function(wald) {\n",
    "    p_val <-2*(1-pnorm(wald))\n",
    "    return(round(p_val,digits=2))    \n",
    "}\n",
    "\n"
   ]
  },
  {
   "cell_type": "code",
   "execution_count": 12,
   "id": "48353e39-6199-45f0-92b1-b019a8acf474",
   "metadata": {},
   "outputs": [
    {
     "data": {
      "text/html": [
       "0.26"
      ],
      "text/latex": [
       "0.26"
      ],
      "text/markdown": [
       "0.26"
      ],
      "text/plain": [
       "[1] 0.26"
      ]
     },
     "metadata": {},
     "output_type": "display_data"
    }
   ],
   "source": [
    "p_val_wald(wald_test(probs_for_test(passing_rates_reading,c(21))))"
   ]
  },
  {
   "cell_type": "markdown",
   "id": "06d72ea2-c6a7-45d5-bd63-abf78e13930d",
   "metadata": {},
   "source": [
    "Under the most strict assumptions we can't recommend XYZ to go to Reading.\n",
    "We can try to add more similar people, women aged 20 and 22 to our sample. "
   ]
  },
  {
   "cell_type": "code",
   "execution_count": 13,
   "id": "4e45aa53-2176-4985-b95a-af9611995fcd",
   "metadata": {},
   "outputs": [
    {
     "data": {
      "text/html": [
       "0.07"
      ],
      "text/latex": [
       "0.07"
      ],
      "text/markdown": [
       "0.07"
      ],
      "text/plain": [
       "[1] 0.07"
      ]
     },
     "metadata": {},
     "output_type": "display_data"
    }
   ],
   "source": [
    "p_val_wald(wald_test(probs_for_test(passing_rates_reading,c(20,21,22))))"
   ]
  },
  {
   "cell_type": "markdown",
   "id": "f02ea35b-e195-49b4-93eb-b3ae77bc405c",
   "metadata": {},
   "source": [
    "This now shows moderately strong evidence in favour of taking the exam in Reading.\n",
    "However, our assumptions may not be correct so this number could unfortunately be meaningless."
   ]
  },
  {
   "cell_type": "code",
   "execution_count": 14,
   "id": "593d19d2-6677-43f3-875f-7e3abec40314",
   "metadata": {},
   "outputs": [
    {
     "data": {
      "text/html": [
       "0.07"
      ],
      "text/latex": [
       "0.07"
      ],
      "text/markdown": [
       "0.07"
      ],
      "text/plain": [
       "[1] 0.07"
      ]
     },
     "metadata": {},
     "output_type": "display_data"
    }
   ],
   "source": [
    "p_val_wald(wald_test(probs_for_test(passing_rates_reading,c(19,20,21,22,23))))"
   ]
  },
  {
   "cell_type": "markdown",
   "id": "c9fb4478-8873-4282-a7b6-b74b0edec9b3",
   "metadata": {},
   "source": [
    "## Permutation test:\n",
    "\n",
    "This is a very nice test that allows to compare two distributions or any statistic based on those distributions. It makes few assumptions, works for any distributions and does not require the sample to be very large. It is because of this lack of assumptions that I prefer to follow the recommendations from this test. \n",
    "The results from this test lead me to recommend taking the exam in <b>Reading</b>."
   ]
  },
  {
   "cell_type": "code",
   "execution_count": 21,
   "id": "21f2e8f7-fc91-4a77-8580-76112726d8c7",
   "metadata": {},
   "outputs": [],
   "source": [
    "permutation_test <- function(params, iter){\n",
    "    # The pre processing function will give the parameters in the following order:\n",
    "    pass_r <-params[1]\n",
    "    total_r <- params[2]\n",
    "    pass_l <- params[3]\n",
    "    total_l <-params[4]\n",
    "\n",
    "    # We generate a fake sample, for London and Reading respectively\n",
    "    # They will have the same number of passes and fails observed in the data.\n",
    "    sample_r <- c(numeric(pass_r)+1, numeric(total_r-pass_r))\n",
    "    sample_l <- c(numeric(pass_l)+1, numeric(total_l-pass_l))\n",
    "\n",
    "    full_sample <- c(sample_r, sample_l)\n",
    "    \n",
    "    original_statistic <- mean(sample_r) - mean(sample_l)\n",
    "\n",
    "    larger_than_og <-c()\n",
    "    \n",
    "    for (i in 1:iter){\n",
    "        # Sampled without replacement. -> Permutation\n",
    "        # There may be repeated permutations but the probability is small so I will not correct for it as it would be very expensive to check.\n",
    "        permutation <- sample(full_sample) \n",
    "        # The first elements will be \"reading people\"\n",
    "        perm_r <- permutation[1:total_r]\n",
    "\n",
    "        #These are \"london people\"\n",
    "        perm_l <- permutation[(total_r+1):length(permutation)]\n",
    "\n",
    "        # Compute the statistic with the permuted sample.\n",
    "        perm_statistic <- mean(perm_r) - mean(perm_l)\n",
    "        # Keep TRUE=1 and FALSE=0\n",
    "        larger_than_og <- c(larger_than_og, perm_statistic > original_statistic)\n",
    "        \n",
    "    } \n",
    "\n",
    "    p_val_perm <-mean(larger_than_og)\n",
    "    return(round(p_val_perm,digits=2))\n",
    "}    "
   ]
  },
  {
   "cell_type": "code",
   "execution_count": 19,
   "id": "fcc70613-fee5-4872-a806-cb5bd656d83f",
   "metadata": {},
   "outputs": [
    {
     "data": {
      "text/html": [
       "0.11"
      ],
      "text/latex": [
       "0.11"
      ],
      "text/markdown": [
       "0.11"
      ],
      "text/plain": [
       "[1] 0.11"
      ]
     },
     "metadata": {},
     "output_type": "display_data"
    }
   ],
   "source": [
    "params <- probs_for_test(passing_rates_reading,c(21))\n",
    "permutation_test(params,10000)"
   ]
  },
  {
   "cell_type": "markdown",
   "id": "4fc41160-e551-4279-a1f9-318e12736cbe",
   "metadata": {},
   "source": [
    "We can see that even in the case where we only include women aged 21 we have moderately strong evidence in favour of going to Reading to take this exam.\n",
    "\n"
   ]
  },
  {
   "cell_type": "code",
   "execution_count": 17,
   "id": "f05dd13b-1d09-46f3-9741-7496f6278080",
   "metadata": {},
   "outputs": [
    {
     "data": {
      "text/html": [
       "0.03"
      ],
      "text/latex": [
       "0.03"
      ],
      "text/markdown": [
       "0.03"
      ],
      "text/plain": [
       "[1] 0.03"
      ]
     },
     "metadata": {},
     "output_type": "display_data"
    }
   ],
   "source": [
    "params <- probs_for_test(passing_rates_reading,c(20,21,22))\n",
    "permutation_test(params,10000)"
   ]
  },
  {
   "cell_type": "markdown",
   "id": "2372bbb1-3f0a-4fce-93fa-2871978ac919",
   "metadata": {},
   "source": [
    "If we include women aged 20-22, we have very strong evidence in favour of going to Reading. "
   ]
  },
  {
   "cell_type": "code",
   "execution_count": 18,
   "id": "d51af429-55b7-40c7-b656-09eee25e2de0",
   "metadata": {},
   "outputs": [
    {
     "data": {
      "text/html": [
       "0.03"
      ],
      "text/latex": [
       "0.03"
      ],
      "text/markdown": [
       "0.03"
      ],
      "text/plain": [
       "[1] 0.03"
      ]
     },
     "metadata": {},
     "output_type": "display_data"
    }
   ],
   "source": [
    "params <- probs_for_test(passing_rates_reading,c(19,20,21,22,23))\n",
    "permutation_test(params,10000)"
   ]
  },
  {
   "cell_type": "markdown",
   "id": "736046b6-8318-4071-bc33-3cdbc189fa8c",
   "metadata": {},
   "source": [
    " What do these numbers mean? If the candidates repeated the test 100 times and the probabilities of passing were the same in both London and Reading, we would falsly recommend to go to Reading 100*z times. We are therefore looking for small numbers (z), 0.1 or 0.05.\n",
    "\n",
    "We can see in the table below that even under the most stringent assumptions - to only consider women aged 21 as a valid comparison group - the permutation test gives moderate evidence towards discarding the baseline hypothesis - passing rates being the same in both locations -. For the assumption that women aged 21 are identical in all important aspects to women aged 20 and 22, the permutation test gives strong evidence towards taking the exam in Reading."
   ]
  },
  {
   "cell_type": "markdown",
   "id": "c4b7db9e-eb25-4da7-864f-85bd41d630f9",
   "metadata": {},
   "source": [
    "| Test p-values <br>(women in 2023/24) | Women aged 21 | Women aged 20-22        |  Women aged 19-23 \n",
    "|----------------|--------------|------------|--------|\n",
    "| <b>Wald test</b>          |  0.26    | 0.07 | 0.07      \n",
    "| <b>Permutation test</b>           |   0.11    | 0.03     | 0.03   \n",
    "\n",
    "<hr>"
   ]
  },
  {
   "cell_type": "markdown",
   "id": "26190d3f-1b81-44a6-ab93-743fa13061c3",
   "metadata": {},
   "source": [
    "# Limitations\n",
    "\n",
    "- Time series: I largely avoid making predictions for this present year (2024-25) -which would be the most relevant quantity for XYZ-, because that is beyond the scope of this course. But it does look like passing rates in Reading are going down. And, since post covid, the number of exams taken in Reading have been going down, so we might need to further research these temporal changes.\n",
    "\n",
    "- Skill differences: My estimators aggregate/integrate over an unkown skill distribution that might vary across location. Practice/skill is a very important predictor on passing the exam. This might bias our results in two different ways. e.g.\n",
    "<ol>\n",
    "<li>The exam is very difficult in London so people take more lessons to prepare than in Reading. Therefore, if we conditioned on practice time, the difference in passing rates between Reading and London would be greater. Passing in Reading would be much more likely than passing in London.\n",
    "<li>On the other hand, practice lessons are very expensive in London and that may cause people to practice less. If we conditioned on practice time, the difference in passing rates could be smaller or even negative. That might be because although driving in London is more difficult, there is a lot of traffic, which minimizes opportunities to make mistakes.  \n",
    "\n",
    "\n",
    "<ol>\n",
    "\n",
    "<i>Note that both these scenarios are in agreement with the fact that XYZ reports she has average skill/practice time.<i>    \n",
    "    \n",
    "<hr>"
   ]
  }
 ],
 "metadata": {
  "kernelspec": {
   "display_name": "R",
   "language": "R",
   "name": "ir"
  },
  "language_info": {
   "codemirror_mode": "r",
   "file_extension": ".r",
   "mimetype": "text/x-r-source",
   "name": "R",
   "pygments_lexer": "r",
   "version": "4.3.3"
  }
 },
 "nbformat": 4,
 "nbformat_minor": 5
}
