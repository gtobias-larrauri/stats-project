{
 "cells": [
  {
   "cell_type": "markdown",
   "id": "06354bc1-e922-4504-ac9c-bf5635b66bb2",
   "metadata": {},
   "source": [
    "# Where to take driving exam? Candidate number: 50691\n",
    "<hr>"
   ]
  },
  {
   "cell_type": "markdown",
   "id": "97309b41-6928-4dd6-af96-717c5fef7804",
   "metadata": {},
   "source": [
    "## Objectives:\n",
    "- Expected passing for XYZ in both locations.\n",
    "- Where should XYZ take the test? Statistical evidence in favour of the decision?\n",
    "- Justify the methodology used, explain assumptions.\n",
    "- Final report needs to be understood by non-expert in statistics.\n",
    "- Commented code, so that it can be understood.\n",
    "- Strenghts and weaknesses, relate to assumptions I make. Also maybe mention missing data, XYZ thinks his/her driving skill is about average.\n",
    "- <b>8 pages max, can be shorter</b>\n"
   ]
  },
  {
   "cell_type": "markdown",
   "id": "87b75dca-7856-4d35-9717-1de08bfcace9",
   "metadata": {},
   "source": [
    "<hr> "
   ]
  },
  {
   "cell_type": "code",
   "execution_count": 7,
   "id": "689ceb36-4d7b-4498-9081-1547f540445b",
   "metadata": {},
   "outputs": [
    {
     "name": "stdout",
     "output_type": "stream",
     "text": [
      "The profile of XYZ:\n",
      "- Age:  21\n",
      "- Gender:  Female\n",
      "- Home address:  Reading\n"
     ]
    }
   ],
   "source": [
    "ID <- 202215485\n",
    "source(\"XYZprofile.r\")\n",
    "XYZprofile(ID)"
   ]
  },
  {
   "cell_type": "markdown",
   "id": "f7cca6d1-98ea-44d6-b7a4-0eaabed96d81",
   "metadata": {},
   "source": [
    "## Exploratory data analysis:\n",
    "    This should follow a purpose, which is mostly sample selection:\n",
    "- Passing rate is higher in Reading\n",
    "- Similar sample size in both locations.\n",
    "- Large differences between males and females, they do not come from same distribution. -> Important for tests I guess.\n",
    "\n",
    "<b>Can we bunch together different ages, gender and years<b>\n",
    "\n",
    "Gender is immediately discarded as there are large differences. \n",
    "\n",
    "<b>To do:<b>\n",
    "\n",
    "- Check differences in passing rates for women of a different year, for all years.\n",
    "- If they are somewhat constant for a decent enough sample size. -> We can bunch women together from 20-23, see the slope.\n",
    "- If we can bunch ages together maybe time series plot becomes a bit smoother and we can bunch different years together.\n",
    "\n",
    "<i>On the other hand, if even when bunching time series plot is not smooth we can't use that, so start with time series bunched. If there is a lot of variability we just take latest year, and we just we can just check that year out.<i>\n",
    "\n",
    "<b>Confirmed time series is not too smooth, for now cut sample to most recent year. AND, within that year it is not too smooth so for test restrict the sample. </b>"
   ]
  },
  {
   "cell_type": "code",
   "execution_count": null,
   "id": "d949c0ca-1d17-4c26-9982-055adf9eac9d",
   "metadata": {},
   "outputs": [],
   "source": []
  },
  {
   "cell_type": "markdown",
   "id": "9a49ac80-9ec0-4f9c-811f-69f792ee50c1",
   "metadata": {},
   "source": [
    "## Logit can be a great option\n",
    "<b>Especially for conditional probability estimation<b>\n",
    "\n",
    "Remember for confidence interval quantify the epsilon uncertainty, can be an interesting fact. Is this valid with logit or not? That tutorial from ML class."
   ]
  },
  {
   "cell_type": "code",
   "execution_count": null,
   "id": "00daf3dc-73d5-4617-bd5b-4a58476d0446",
   "metadata": {},
   "outputs": [],
   "source": []
  },
  {
   "cell_type": "code",
   "execution_count": null,
   "id": "0eeeaf0e-9836-48ad-92d9-296ea21b778c",
   "metadata": {},
   "outputs": [],
   "source": []
  },
  {
   "cell_type": "markdown",
   "id": "0291e61d-8661-43f6-97f0-d170d2e7235c",
   "metadata": {},
   "source": [
    "## Tests, check out all of statistics chapter.\n",
    "\n",
    "We can start from most restrictive sample scenario, compare only women aged 21 in last year, if we discard with smallest sample we will discard with bigger sample.\n"
   ]
  }
 ],
 "metadata": {
  "kernelspec": {
   "display_name": "R",
   "language": "R",
   "name": "ir"
  },
  "language_info": {
   "codemirror_mode": "r",
   "file_extension": ".r",
   "mimetype": "text/x-r-source",
   "name": "R",
   "pygments_lexer": "r",
   "version": "4.3.3"
  }
 },
 "nbformat": 4,
 "nbformat_minor": 5
}
