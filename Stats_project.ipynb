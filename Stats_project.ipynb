{
 "cells": [
  {
   "cell_type": "markdown",
   "id": "06354bc1-e922-4504-ac9c-bf5635b66bb2",
   "metadata": {},
   "source": [
    "# Driving license\n",
    "    21 year old from Reading should be interesting."
   ]
  },
  {
   "cell_type": "code",
   "execution_count": 7,
   "id": "689ceb36-4d7b-4498-9081-1547f540445b",
   "metadata": {},
   "outputs": [
    {
     "name": "stdout",
     "output_type": "stream",
     "text": [
      "The profile of XYZ:\n",
      "- Age:  21\n",
      "- Gender:  Female\n",
      "- Home address:  Reading\n"
     ]
    }
   ],
   "source": [
    "ID <- 202215485\n",
    "source(\"XYZprofile.r\")\n",
    "XYZprofile(ID)"
   ]
  },
  {
   "cell_type": "code",
   "execution_count": null,
   "id": "79866071-f477-496a-8c09-73c52f03bf4a",
   "metadata": {},
   "outputs": [],
   "source": []
  }
 ],
 "metadata": {
  "kernelspec": {
   "display_name": "R",
   "language": "R",
   "name": "ir"
  },
  "language_info": {
   "codemirror_mode": "r",
   "file_extension": ".r",
   "mimetype": "text/x-r-source",
   "name": "R",
   "pygments_lexer": "r",
   "version": "4.4.1"
  }
 },
 "nbformat": 4,
 "nbformat_minor": 5
}
