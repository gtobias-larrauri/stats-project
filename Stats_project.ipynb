{
 "cells": [
  {
   "cell_type": "markdown",
   "id": "06354bc1-e922-4504-ac9c-bf5635b66bb2",
   "metadata": {},
   "source": [
    "# Where to take driving exam? Candidate number: 50691\n",
    "<hr>"
   ]
  },
  {
   "cell_type": "markdown",
   "id": "97309b41-6928-4dd6-af96-717c5fef7804",
   "metadata": {},
   "source": [
    "## Objectives:\n",
    "- Expected passing for XYZ in both locations.\n",
    "- Where should XYZ take the test? Statistical evidence in favour of the decision?\n",
    "- Justify the methodology used, explain assumptions.\n",
    "- Final report needs to be understood by non-expert in statistics.\n",
    "- Commented code, so that it can be understood.\n",
    "- Strenghts and weaknesses, relate to assumptions I make. Also maybe mention missing data, XYZ thinks his/her driving skill is about average.\n",
    "- <b>8 pages max, can be shorter</b>\n"
   ]
  },
  {
   "cell_type": "markdown",
   "id": "87b75dca-7856-4d35-9717-1de08bfcace9",
   "metadata": {},
   "source": [
    "<hr> "
   ]
  },
  {
   "cell_type": "code",
   "execution_count": 39,
   "id": "f3cff608-710e-416d-badf-69678d2c1919",
   "metadata": {},
   "outputs": [
    {
     "name": "stderr",
     "output_type": "stream",
     "text": [
      "\n",
      "Attaching package: ‘dplyr’\n",
      "\n",
      "\n",
      "The following objects are masked from ‘package:stats’:\n",
      "\n",
      "    filter, lag\n",
      "\n",
      "\n",
      "The following objects are masked from ‘package:base’:\n",
      "\n",
      "    intersect, setdiff, setequal, union\n",
      "\n",
      "\n"
     ]
    }
   ],
   "source": [
    "library(dplyr)"
   ]
  },
  {
   "cell_type": "code",
   "execution_count": 7,
   "id": "689ceb36-4d7b-4498-9081-1547f540445b",
   "metadata": {},
   "outputs": [
    {
     "name": "stdout",
     "output_type": "stream",
     "text": [
      "The profile of XYZ:\n",
      "- Age:  21\n",
      "- Gender:  Female\n",
      "- Home address:  Reading\n"
     ]
    }
   ],
   "source": [
    "ID <- 202215485\n",
    "source(\"XYZprofile.r\")\n",
    "XYZprofile(ID)"
   ]
  },
  {
   "cell_type": "markdown",
   "id": "f7cca6d1-98ea-44d6-b7a4-0eaabed96d81",
   "metadata": {},
   "source": [
    "## Exploratory data analysis:\n",
    "    This should follow a purpose, which is mostly sample selection:\n",
    "- Passing rate is higher in Reading\n",
    "- Similar sample size in both locations.\n",
    "- Large differences between males and females, they do not come from same distribution. -> Important for tests I guess.\n",
    "\n",
    "<b>Can we bunch together different ages, gender and years<b>\n",
    "\n",
    "Gender is immediately discarded as there are large differences. \n",
    "\n",
    "<b>To do:<b>\n",
    "\n",
    "- Check differences in passing rates for women of a different year, for all years.\n",
    "- If they are somewhat constant for a decent enough sample size. -> We can bunch women together from 20-23, see the slope.\n",
    "- If we can bunch ages together maybe time series plot becomes a bit smoother and we can bunch different years together.\n",
    "\n",
    "<i>On the other hand, if even when bunching time series plot is not smooth we can't use that, so start with time series bunched. If there is a lot of variability we just take latest year, and we just we can just check that year out.<i>\n",
    "\n",
    "<b>Confirmed time series is not too smooth, for now cut sample to most recent year. AND, within that year it is not too smooth so for test restrict the sample. To just women 21</b>\n",
    "\n",
    "\n",
    "This reasoning should be a bit better."
   ]
  },
  {
   "cell_type": "code",
   "execution_count": 66,
   "id": "d949c0ca-1d17-4c26-9982-055adf9eac9d",
   "metadata": {},
   "outputs": [],
   "source": [
    "passing_rates_reading <- read.csv(\"passing_rates_reading.csv\")"
   ]
  },
  {
   "cell_type": "code",
   "execution_count": 68,
   "id": "ed569d8d-d8f0-4f45-94e8-1cffc51c1cc7",
   "metadata": {
    "scrolled": true
   },
   "outputs": [
    {
     "data": {
      "text/html": [
       "<table class=\"dataframe\">\n",
       "<caption>A data.frame: 5 × 7</caption>\n",
       "<thead>\n",
       "\t<tr><th></th><th scope=col>Location</th><th scope=col>Age</th><th scope=col>Conducted</th><th scope=col>Passes</th><th scope=col>Pass.rate....</th><th scope=col>gender</th><th scope=col>year</th></tr>\n",
       "\t<tr><th></th><th scope=col>&lt;chr&gt;</th><th scope=col>&lt;dbl&gt;</th><th scope=col>&lt;dbl&gt;</th><th scope=col>&lt;dbl&gt;</th><th scope=col>&lt;dbl&gt;</th><th scope=col>&lt;int&gt;</th><th scope=col>&lt;chr&gt;</th></tr>\n",
       "</thead>\n",
       "<tbody>\n",
       "\t<tr><th scope=row>1</th><td>Reading</td><td>17</td><td>307</td><td>193</td><td>62.86645</td><td>0</td><td>2023-24</td></tr>\n",
       "\t<tr><th scope=row>2</th><td>Reading</td><td>18</td><td>366</td><td>181</td><td>49.45355</td><td>0</td><td>2023-24</td></tr>\n",
       "\t<tr><th scope=row>3</th><td>Reading</td><td>19</td><td>216</td><td>116</td><td>53.70370</td><td>0</td><td>2023-24</td></tr>\n",
       "\t<tr><th scope=row>4</th><td>Reading</td><td>20</td><td>147</td><td> 81</td><td>55.10204</td><td>0</td><td>2023-24</td></tr>\n",
       "\t<tr><th scope=row>5</th><td>Reading</td><td>21</td><td>125</td><td> 68</td><td>54.40000</td><td>0</td><td>2023-24</td></tr>\n",
       "</tbody>\n",
       "</table>\n"
      ],
      "text/latex": [
       "A data.frame: 5 × 7\n",
       "\\begin{tabular}{r|lllllll}\n",
       "  & Location & Age & Conducted & Passes & Pass.rate.... & gender & year\\\\\n",
       "  & <chr> & <dbl> & <dbl> & <dbl> & <dbl> & <int> & <chr>\\\\\n",
       "\\hline\n",
       "\t1 & Reading & 17 & 307 & 193 & 62.86645 & 0 & 2023-24\\\\\n",
       "\t2 & Reading & 18 & 366 & 181 & 49.45355 & 0 & 2023-24\\\\\n",
       "\t3 & Reading & 19 & 216 & 116 & 53.70370 & 0 & 2023-24\\\\\n",
       "\t4 & Reading & 20 & 147 &  81 & 55.10204 & 0 & 2023-24\\\\\n",
       "\t5 & Reading & 21 & 125 &  68 & 54.40000 & 0 & 2023-24\\\\\n",
       "\\end{tabular}\n"
      ],
      "text/markdown": [
       "\n",
       "A data.frame: 5 × 7\n",
       "\n",
       "| <!--/--> | Location &lt;chr&gt; | Age &lt;dbl&gt; | Conducted &lt;dbl&gt; | Passes &lt;dbl&gt; | Pass.rate.... &lt;dbl&gt; | gender &lt;int&gt; | year &lt;chr&gt; |\n",
       "|---|---|---|---|---|---|---|---|\n",
       "| 1 | Reading | 17 | 307 | 193 | 62.86645 | 0 | 2023-24 |\n",
       "| 2 | Reading | 18 | 366 | 181 | 49.45355 | 0 | 2023-24 |\n",
       "| 3 | Reading | 19 | 216 | 116 | 53.70370 | 0 | 2023-24 |\n",
       "| 4 | Reading | 20 | 147 |  81 | 55.10204 | 0 | 2023-24 |\n",
       "| 5 | Reading | 21 | 125 |  68 | 54.40000 | 0 | 2023-24 |\n",
       "\n"
      ],
      "text/plain": [
       "  Location Age Conducted Passes Pass.rate.... gender year   \n",
       "1 Reading  17  307       193    62.86645      0      2023-24\n",
       "2 Reading  18  366       181    49.45355      0      2023-24\n",
       "3 Reading  19  216       116    53.70370      0      2023-24\n",
       "4 Reading  20  147        81    55.10204      0      2023-24\n",
       "5 Reading  21  125        68    54.40000      0      2023-24"
      ]
     },
     "metadata": {},
     "output_type": "display_data"
    }
   ],
   "source": [
    "head(passing_rates_reading,5)"
   ]
  },
  {
   "cell_type": "markdown",
   "id": "9a49ac80-9ec0-4f9c-811f-69f792ee50c1",
   "metadata": {},
   "source": [
    "## Logit can be a great option\n",
    "<b>Especially for conditional probability estimation<b>\n",
    "\n",
    "Remember for confidence interval quantify the epsilon uncertainty, can be an interesting fact. Is this valid with logit or not? That tutorial from ML class."
   ]
  },
  {
   "cell_type": "code",
   "execution_count": null,
   "id": "00daf3dc-73d5-4617-bd5b-4a58476d0446",
   "metadata": {},
   "outputs": [],
   "source": []
  },
  {
   "cell_type": "code",
   "execution_count": null,
   "id": "0eeeaf0e-9836-48ad-92d9-296ea21b778c",
   "metadata": {},
   "outputs": [],
   "source": []
  },
  {
   "cell_type": "markdown",
   "id": "0291e61d-8661-43f6-97f0-d170d2e7235c",
   "metadata": {},
   "source": [
    "## Tests, check out all of statistics chapter.\n",
    "\n",
    "We can start from most restrictive sample scenario, compare only women aged 21 in last year, if we discard with smallest sample we will discard with bigger sample.\n",
    "\n",
    "To do list:\n",
    "\n",
    "- Derivation of the fact that difference of two sample means follow an asymptotically normal distribution. MLE justification.\n",
    "\n",
    "- Talk about the power of the Wald test. If we increase the population size the test size would increase. \n",
    "\n",
    "<hr>"
   ]
  },
  {
   "cell_type": "markdown",
   "id": "9b3b4d69-2a78-4ab0-8cd2-02db065b32ac",
   "metadata": {},
   "source": [
    "### Derivation of Wald test.\n",
    "<b>Assume</b> that all 21 year old women have the same preparation and driving skill.\n",
    "\n",
    "Then we can say going into exam $R \\sim Binomial(N_r,p_r)$ and $Y \\sim Binomial(N_l,p_l)$\n",
    "\n",
    "That is every the probability that someone passes the exam is independent with the probability someone else passes it. \n",
    "\n",
    "<b>Assume</b> that the two binomials are independent, seems straightforward but there can be some selection issues and it is tough to formalize.\n",
    "\n",
    "Then we can set up an MLE estimator which will be smooth over parameter space so it will be asymptotically normal: $f(x,y) =f(x)f(y)$ taking logs means that p1 and p2 will be estimated independently. To get to $f(x)f(y)$ we have used the independence.\n",
    "\n",
    "Then we have a very nice theorem: 9.14 Theorem. Let $\\tau = g(\\theta)$ be a function of $\\theta$. Let $\\hat{\\theta}$ be the MLE of $\\theta$. Then $\\hat{\\tau} = g(\\hat{\\theta})$ is the MLE of $\\tau$.\n",
    "\n",
    "In our case the function is $g(p_r,p_l) = p_r - p_l$ so our MLE will just be the plug in. \n",
    "For the variance we can derive it easily through independence $\\textbf{V}(\\hat{p_r}) + \\textbf{V}(\\hat{p_l})$"
   ]
  },
  {
   "cell_type": "code",
   "execution_count": 86,
   "id": "3158e3d8-5231-420c-a4d0-e9f3c7befdae",
   "metadata": {},
   "outputs": [],
   "source": [
    "size_r <- 98\n",
    "prob_r <- 49/size_r\n",
    "\n",
    "size_l <- 310\n",
    "prob_l <- 135/size_l"
   ]
  },
  {
   "cell_type": "code",
   "execution_count": 87,
   "id": "d025a93e-d7d1-4b95-b965-e441a90c7410",
   "metadata": {},
   "outputs": [
    {
     "data": {
      "text/html": [
       "0.0645161290322581"
      ],
      "text/latex": [
       "0.0645161290322581"
      ],
      "text/markdown": [
       "0.0645161290322581"
      ],
      "text/plain": [
       "[1] 0.06451613"
      ]
     },
     "metadata": {},
     "output_type": "display_data"
    }
   ],
   "source": [
    "prob_r - prob_l"
   ]
  },
  {
   "cell_type": "code",
   "execution_count": 88,
   "id": "926c1ae6-8f24-4790-a7c2-1a33558b717b",
   "metadata": {},
   "outputs": [],
   "source": [
    "se_mle <- sqrt( (prob_r)*(1-prob_r)/size_r + (prob_l)*(1-prob_l)/size_l )"
   ]
  },
  {
   "cell_type": "code",
   "execution_count": 89,
   "id": "15f7b07b-0d77-4c41-8717-222b52ecb411",
   "metadata": {},
   "outputs": [
    {
     "data": {
      "text/html": [
       "1.11566095889031"
      ],
      "text/latex": [
       "1.11566095889031"
      ],
      "text/markdown": [
       "1.11566095889031"
      ],
      "text/plain": [
       "[1] 1.115661"
      ]
     },
     "metadata": {},
     "output_type": "display_data"
    }
   ],
   "source": [
    "W <- (prob_r-prob_l)/se_mle\n",
    "W"
   ]
  },
  {
   "cell_type": "code",
   "execution_count": 90,
   "id": "ef2aef1c-5d66-4518-8d23-f0ec7a9e7040",
   "metadata": {},
   "outputs": [
    {
     "data": {
      "text/html": [
       "FALSE"
      ],
      "text/latex": [
       "FALSE"
      ],
      "text/markdown": [
       "FALSE"
      ],
      "text/plain": [
       "[1] FALSE"
      ]
     },
     "metadata": {},
     "output_type": "display_data"
    }
   ],
   "source": [
    "abs(W) > 1.645"
   ]
  },
  {
   "cell_type": "markdown",
   "id": "bd7b50ef-23fb-4ba3-ad6b-923114dd8500",
   "metadata": {},
   "source": [
    "Under the most strict assumptions we can't discard the null, we either need additional data or a more powerful test.\n",
    "Add power add sample! -> 21-23 a bit arbitrary on who we include but it seems similar enough! "
   ]
  },
  {
   "cell_type": "code",
   "execution_count": 55,
   "id": "40fd0dd2-26cb-4c73-ad8e-11c9c01df76e",
   "metadata": {},
   "outputs": [],
   "source": [
    "p_rate_age_subset <- subset(passing_rates_reading, Age %in% c(21,22,23))\n",
    "\n"
   ]
  },
  {
   "cell_type": "code",
   "execution_count": 56,
   "id": "8878e4ff-9b5e-4199-8ce4-32104154ba38",
   "metadata": {},
   "outputs": [
    {
     "name": "stderr",
     "output_type": "stream",
     "text": [
      "\u001b[1m\u001b[22m`summarise()` has grouped output by 'gender', 'year'. You can override using\n",
      "the `.groups` argument.\n"
     ]
    }
   ],
   "source": [
    "p_rate_age_subset <- p_rate_age_subset %>% group_by(gender, year, Location) %>% \n",
    "  summarise(conducted=sum(\n",
    "      Conducted), passes = sum(Passes)\n",
    "           )\n"
   ]
  },
  {
   "cell_type": "code",
   "execution_count": 74,
   "id": "b6607e4b-4abe-4ed4-894b-9acfaafe9452",
   "metadata": {},
   "outputs": [],
   "source": [
    "p_rate_age_subset <- data.frame(subset(p_rate_age_subset, year==\"2023-24\"))"
   ]
  },
  {
   "cell_type": "code",
   "execution_count": 79,
   "id": "df322922-f154-4404-8c8b-4a7956bbcc5b",
   "metadata": {},
   "outputs": [],
   "source": [
    "p_rate_age_subset$rate <- p_rate_age_subset$passes / p_rate_age_subset$conducted"
   ]
  },
  {
   "cell_type": "code",
   "execution_count": 80,
   "id": "d4c88393-ad8c-4dd6-bfb1-89c3262fd993",
   "metadata": {},
   "outputs": [
    {
     "data": {
      "text/html": [
       "<table class=\"dataframe\">\n",
       "<caption>A data.frame: 4 × 6</caption>\n",
       "<thead>\n",
       "\t<tr><th scope=col>gender</th><th scope=col>year</th><th scope=col>Location</th><th scope=col>conducted</th><th scope=col>passes</th><th scope=col>rate</th></tr>\n",
       "\t<tr><th scope=col>&lt;int&gt;</th><th scope=col>&lt;chr&gt;</th><th scope=col>&lt;chr&gt;</th><th scope=col>&lt;dbl&gt;</th><th scope=col>&lt;dbl&gt;</th><th scope=col>&lt;dbl&gt;</th></tr>\n",
       "</thead>\n",
       "<tbody>\n",
       "\t<tr><td>0</td><td>2023-24</td><td>Reading            </td><td> 353</td><td>184</td><td>0.5212465</td></tr>\n",
       "\t<tr><td>0</td><td>2023-24</td><td>Wood Green (London)</td><td>1005</td><td>473</td><td>0.4706468</td></tr>\n",
       "\t<tr><td>1</td><td>2023-24</td><td>Reading            </td><td> 287</td><td>133</td><td>0.4634146</td></tr>\n",
       "\t<tr><td>1</td><td>2023-24</td><td>Wood Green (London)</td><td> 855</td><td>359</td><td>0.4198830</td></tr>\n",
       "</tbody>\n",
       "</table>\n"
      ],
      "text/latex": [
       "A data.frame: 4 × 6\n",
       "\\begin{tabular}{llllll}\n",
       " gender & year & Location & conducted & passes & rate\\\\\n",
       " <int> & <chr> & <chr> & <dbl> & <dbl> & <dbl>\\\\\n",
       "\\hline\n",
       "\t 0 & 2023-24 & Reading             &  353 & 184 & 0.5212465\\\\\n",
       "\t 0 & 2023-24 & Wood Green (London) & 1005 & 473 & 0.4706468\\\\\n",
       "\t 1 & 2023-24 & Reading             &  287 & 133 & 0.4634146\\\\\n",
       "\t 1 & 2023-24 & Wood Green (London) &  855 & 359 & 0.4198830\\\\\n",
       "\\end{tabular}\n"
      ],
      "text/markdown": [
       "\n",
       "A data.frame: 4 × 6\n",
       "\n",
       "| gender &lt;int&gt; | year &lt;chr&gt; | Location &lt;chr&gt; | conducted &lt;dbl&gt; | passes &lt;dbl&gt; | rate &lt;dbl&gt; |\n",
       "|---|---|---|---|---|---|\n",
       "| 0 | 2023-24 | Reading             |  353 | 184 | 0.5212465 |\n",
       "| 0 | 2023-24 | Wood Green (London) | 1005 | 473 | 0.4706468 |\n",
       "| 1 | 2023-24 | Reading             |  287 | 133 | 0.4634146 |\n",
       "| 1 | 2023-24 | Wood Green (London) |  855 | 359 | 0.4198830 |\n",
       "\n"
      ],
      "text/plain": [
       "  gender year    Location            conducted passes rate     \n",
       "1 0      2023-24 Reading              353      184    0.5212465\n",
       "2 0      2023-24 Wood Green (London) 1005      473    0.4706468\n",
       "3 1      2023-24 Reading              287      133    0.4634146\n",
       "4 1      2023-24 Wood Green (London)  855      359    0.4198830"
      ]
     },
     "metadata": {},
     "output_type": "display_data"
    }
   ],
   "source": [
    "p_rate_age_subset"
   ]
  },
  {
   "cell_type": "markdown",
   "id": "465d8eb4-fb19-4b2e-8724-0bd9336ec37e",
   "metadata": {},
   "source": [
    "Figure out how to get the numbers out of the dataframe!"
   ]
  },
  {
   "cell_type": "code",
   "execution_count": 91,
   "id": "2c4af970-82c0-4d90-9ef1-acaa4528def2",
   "metadata": {},
   "outputs": [],
   "source": [
    "size_r <-287\n",
    "prob_r <- 133/size_r\n",
    "\n",
    "size_l <- 855\n",
    "prob_l <- 359/size_l"
   ]
  },
  {
   "cell_type": "code",
   "execution_count": 92,
   "id": "75b3fb5c-a457-4d52-bf4e-caa9f7870061",
   "metadata": {},
   "outputs": [],
   "source": [
    "se_mle <- sqrt( (prob_r)*(1-prob_r)/size_r + (prob_l)*(1-prob_l)/size_l )"
   ]
  },
  {
   "cell_type": "code",
   "execution_count": 93,
   "id": "155236d5-2953-49a2-99d6-00815fceef3b",
   "metadata": {},
   "outputs": [],
   "source": [
    "W <- (prob_r-prob_l)/se_mle"
   ]
  },
  {
   "cell_type": "code",
   "execution_count": 94,
   "id": "0f215235-a171-4bfe-b820-8f0c102cff81",
   "metadata": {},
   "outputs": [
    {
     "data": {
      "text/html": [
       "1.28294792522965"
      ],
      "text/latex": [
       "1.28294792522965"
      ],
      "text/markdown": [
       "1.28294792522965"
      ],
      "text/plain": [
       "[1] 1.282948"
      ]
     },
     "metadata": {},
     "output_type": "display_data"
    }
   ],
   "source": [
    "W"
   ]
  },
  {
   "cell_type": "markdown",
   "id": "f02ea35b-e195-49b4-93eb-b3ae77bc405c",
   "metadata": {},
   "source": [
    "Still not enough power!!!"
   ]
  },
  {
   "cell_type": "markdown",
   "id": "c9fb4478-8873-4282-a7b6-b74b0edec9b3",
   "metadata": {},
   "source": [
    "### Permutation test:\n",
    "Can be used to compare two means even though I don't fully know why!\n",
    "We have an initial test statistic, we call it t observed.\n",
    "\n",
    "Make up a random vector even though we do not observe it; (r_1: 1, r_2: 0, r_3: 1, l_1:1 , ... l_n=1) such that the averages sum up to observed passing rates.\n",
    "Then use random to shuffle this list: argue that same permutation will rarely happen. \n",
    "Shuffle and get 1:n_r as the reading obs rest are london.\n",
    "Compute the statistic and see if it is larger to observed. 1 if so.\n",
    "Then p value is just sum of ones divided by iterations we take.\n",
    "\n"
   ]
  },
  {
   "cell_type": "code",
   "execution_count": 59,
   "id": "21f2e8f7-fc91-4a77-8580-76112726d8c7",
   "metadata": {},
   "outputs": [],
   "source": [
    "permutation_test <- function(total_r, pass_r, total_l, pass_l, iter){\n",
    "    \n",
    "    sample_r <- c(numeric(pass_r)+1, numeric(total_r-pass_r))\n",
    "    sample_l <- c(numeric(pass_l)+1, numeric(total_l-pass_l))\n",
    "\n",
    "    full_sample <- c(sample_r, sample_l)\n",
    "    \n",
    "    original_statistic <- mean(sample_r) - mean(sample_l)\n",
    "\n",
    "    larger_than_og <-c()\n",
    "    \n",
    "    for (i in 1:iter){\n",
    "        permutation <- sample(full_sample) # Sampled without replacement.\n",
    "        # May have to fix it so no vectors are duplicated, I feel the probability is super low anyways.\n",
    "        \n",
    "        perm_r <- permutation[1:total_r]\n",
    "        perm_l <- permutation[total_r=1:length(permutation)]\n",
    "\n",
    "        perm_statistic <- mean(perm_r) - mean(perm_l)\n",
    "\n",
    "        larger_than_og <- c(larger_than_og, perm_statistic > original_statistic)\n",
    "        \n",
    "    } \n",
    "    \n",
    "    return(mean(larger_than_og))\n",
    "}    "
   ]
  },
  {
   "cell_type": "code",
   "execution_count": 64,
   "id": "9ee62e6e-c167-457b-a26e-05056aad7f23",
   "metadata": {},
   "outputs": [
    {
     "data": {
      "text/html": [
       "0.0693"
      ],
      "text/latex": [
       "0.0693"
      ],
      "text/markdown": [
       "0.0693"
      ],
      "text/plain": [
       "[1] 0.0693"
      ]
     },
     "metadata": {},
     "output_type": "display_data"
    }
   ],
   "source": [
    "# Even with most restricted sample we have this with very good power.\n",
    "\n",
    "permutation_test(98,49,310,135,10000)"
   ]
  },
  {
   "cell_type": "code",
   "execution_count": 60,
   "id": "a5d31f26-3905-4cad-8dd3-3e471a524142",
   "metadata": {},
   "outputs": [
    {
     "data": {
      "text/html": [
       "0.0409"
      ],
      "text/latex": [
       "0.0409"
      ],
      "text/markdown": [
       "0.0409"
      ],
      "text/plain": [
       "[1] 0.0409"
      ]
     },
     "metadata": {},
     "output_type": "display_data"
    }
   ],
   "source": [
    "# Permutation test destroying the Wald.\n",
    "\n",
    "permutation_test(287,133,855,359,10000)"
   ]
  },
  {
   "cell_type": "code",
   "execution_count": null,
   "id": "d655ed61-9dcc-4309-a92e-af98737fd516",
   "metadata": {},
   "outputs": [],
   "source": []
  },
  {
   "cell_type": "markdown",
   "id": "f1271ae9-9e29-4020-95d9-d494b5550dda",
   "metadata": {},
   "source": [
    "### Parametric bootstrap can be used to test as well no?\n",
    "\n",
    "Initially thought of it for the plots but can be implemented here as well.\n",
    "\n",
    "We have derived our MLE estimator so parametric bootstrap is here just to draw from Binomial with the plug in estimator which is the sample average.\n",
    "\n",
    "Talk about relationship between confidence interval and testing."
   ]
  },
  {
   "cell_type": "code",
   "execution_count": 35,
   "id": "f31ebe31-63e2-43d6-ba79-dc19309e3030",
   "metadata": {},
   "outputs": [],
   "source": [
    "boot_s <- 100000"
   ]
  },
  {
   "cell_type": "code",
   "execution_count": 3,
   "id": "72fa7de4-7694-466c-a148-eafd16ec0d4b",
   "metadata": {},
   "outputs": [],
   "source": [
    "#  women 21 for latest year.\n",
    "#310.0\t135.0\t\n",
    "# 98.0\t49.0\n"
   ]
  },
  {
   "cell_type": "code",
   "execution_count": 15,
   "id": "8e5e2ec4-0085-4aac-8674-36c5e74a3d85",
   "metadata": {},
   "outputs": [],
   "source": [
    "set.seed(100)\n",
    "boot_prob_r <- rbinom(boot_s, size_r, prob_r)/size_r\n",
    "boot_prob_l <- rbinom(boot_s, size_l, prob_l)/size_l\n"
   ]
  },
  {
   "cell_type": "code",
   "execution_count": 21,
   "id": "72f9ff6f-0809-4d19-943d-246458790095",
   "metadata": {},
   "outputs": [
    {
     "data": {
      "text/html": [
       "<strong>2.5%:</strong> 0.380645161290323"
      ],
      "text/latex": [
       "\\textbf{2.5\\textbackslash{}\\%:} 0.380645161290323"
      ],
      "text/markdown": [
       "**2.5%:** 0.380645161290323"
      ],
      "text/plain": [
       "     2.5% \n",
       "0.3806452 "
      ]
     },
     "metadata": {},
     "output_type": "display_data"
    },
    {
     "data": {
      "text/html": [
       "<strong>97.5%:</strong> 0.490322580645161"
      ],
      "text/latex": [
       "\\textbf{97.5\\textbackslash{}\\%:} 0.490322580645161"
      ],
      "text/markdown": [
       "**97.5%:** 0.490322580645161"
      ],
      "text/plain": [
       "    97.5% \n",
       "0.4903226 "
      ]
     },
     "metadata": {},
     "output_type": "display_data"
    },
    {
     "data": {
      "text/html": [
       "<strong>2.5%:</strong> 0.397959183673469"
      ],
      "text/latex": [
       "\\textbf{2.5\\textbackslash{}\\%:} 0.397959183673469"
      ],
      "text/markdown": [
       "**2.5%:** 0.397959183673469"
      ],
      "text/plain": [
       "     2.5% \n",
       "0.3979592 "
      ]
     },
     "metadata": {},
     "output_type": "display_data"
    },
    {
     "data": {
      "text/html": [
       "<strong>97.5%:</strong> 0.602040816326531"
      ],
      "text/latex": [
       "\\textbf{97.5\\textbackslash{}\\%:} 0.602040816326531"
      ],
      "text/markdown": [
       "**97.5%:** 0.602040816326531"
      ],
      "text/plain": [
       "    97.5% \n",
       "0.6020408 "
      ]
     },
     "metadata": {},
     "output_type": "display_data"
    }
   ],
   "source": [
    "#Smallish sample.\n",
    "\n",
    "quantile(boot_prob_l,0.025)\n",
    "quantile(boot_prob_l,0.975)\n",
    "\n",
    "\n",
    "quantile(boot_prob_r,0.025)\n",
    "quantile(boot_prob_r,0.975)"
   ]
  }
 ],
 "metadata": {
  "kernelspec": {
   "display_name": "R",
   "language": "R",
   "name": "ir"
  },
  "language_info": {
   "codemirror_mode": "r",
   "file_extension": ".r",
   "mimetype": "text/x-r-source",
   "name": "R",
   "pygments_lexer": "r",
   "version": "4.3.3"
  }
 },
 "nbformat": 4,
 "nbformat_minor": 5
}
